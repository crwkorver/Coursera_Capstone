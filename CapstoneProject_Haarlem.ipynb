{
 "cells": [
  {
   "cell_type": "markdown",
   "metadata": {},
   "source": [
    "# Finding the optimum spot for the Halewijn Award Ceremony in Haarlem, the Netherlands. \n",
    "#### Applied Data Science Capstone Project by IBM/Coursera\n",
    "   \n",
    "## *CRW Korver*, Haarlem, the Netherlands\n",
    "\n",
    "December 15, 2019 \\\n",
    "email author: <crwkorver@hotmail.com>\n",
    "***"
   ]
  },
  {
   "cell_type": "markdown",
   "metadata": {},
   "source": [
    "## Table of contents\n",
    "* [Introduction](#1)\n",
    "* [Data](#2)\n",
    "* [Methodology](#3)\n",
    "* [Exploratory Data Analysis](#4)\n",
    "* [Results and Discussion](#5)\n",
    "* [Conclusion](#6)\n",
    "\n",
    "***"
   ]
  },
  {
   "cell_type": "markdown",
   "metadata": {},
   "source": [
    "\n",
    "\n",
    "## 1. Introduction <a name=\"1\"></a>"
   ]
  },
  {
   "cell_type": "markdown",
   "metadata": {},
   "source": [
    "The [**Halewijn Prijs**](https://nl.wikipedia.org/wiki/Halewijnprijs,_literatuurprijs_van_de_stad_Roermond) is a Dutch national award, intended for literary talent that, based on quality and irresistibility of his or her published work, deserves extra interest. The prize consists of a cash prize and a bronze small statue made by Dick van Wijk. \n",
    "\n",
    "The yearly Award Ceremony will take place in the city of Haarlem, the Netherlands. To attain maximal public attendance, the ideal neighborhood would be nearby the railway station in order to facilitate traveling by public means in a car-crowded city like Haarlem. Furthermore, to maximize potential book sales, a location should be found that is in the near vicinity of book shops around. Finally, ample restaurants should be present here as well, to accommodate the audience (and the winner and jury members, who will dine together afterwards)."
   ]
  },
  {
   "cell_type": "markdown",
   "metadata": {},
   "source": [
    "\n",
    "\n",
    "## 2. Data <a name=\"2\"></a>"
   ]
  },
  {
   "cell_type": "markdown",
   "metadata": {},
   "source": [
    "In order to meet the above mentioned criteria, we should gather insight in \n",
    "* existing neighborhoods of Haarlem, based on the Dutch Postal Code system;\n",
    "* the number of existing bookshops in the various neighborhoods of Haarlem;\n",
    "* the number of restaurants in the neighborhood, if any.\n",
    "\n",
    "Delineation of neighborhoods will be based on the Dutch Postal Code dictionary."
   ]
  },
  {
   "cell_type": "markdown",
   "metadata": {},
   "source": [
    "### 2.1 Data sources"
   ]
  },
  {
   "cell_type": "markdown",
   "metadata": {},
   "source": [
    "The following data sources were used to extract the information required:\n",
    "* **Nederlandse Postcodetabel** > Dutch Postal Code Dictionary in Excel xlsx format ([documentation](http://www.sqlblog.nl/postcodetabel-nederland-sql-script/)): postal codes and coordinates.\\\n",
    "NB: A Dutch Postal Code API is [available](https://www.postcodeapi.nu/?gclid=EAIaIQobChMIpPeUz86P5gIVC553Ch2RcwO5EAAYASAAEgLMEvD_BwE), but only as a paid service.\n",
    "* **GeoPy** > a Python 3 client for third-party geocoding web services: coordinates of Haarlem Railway Station. ([documentation](https://geopy.readthedocs.io/en/stable//))\n",
    "* **Foursquare API** > location data of book shops and restaurants. ([documentation](https://developer.foursquare.com/docs))"
   ]
  },
  {
   "cell_type": "markdown",
   "metadata": {},
   "source": [
    "### 2.2 Data cleaning and Feature selection"
   ]
  },
  {
   "cell_type": "markdown",
   "metadata": {},
   "source": [
    "From the primary Dutch postal codes dataset pd_Dutchpc (n=471781; 46.8Mb), all non-Haarlem records were dropped. From the resulting dataset (n=4257) PO Box data (all with one geographical location) were discarded, leaving 4123 records. Inspection of the dataframe revealed the presence of (10) missing values in the column PostcodeLetters. However, this column, as well as 7 other columns, were not informative with regard to current analysis, so they were dropped. Then street names were aggregated into unique postal codes, but still 4032 entries remained. Therefore, unique postal codes were further segmented into 19 different Neighborhoods \\[Wijk\\] (based on the Postal Code \\[Postcodenummer\\]). The features selected thus were: Neighborhood, Street Names, averaged latitudes and longitudes.\n",
    "\n",
    "Inventory of dataframes used:\n",
    "- **df_Dutchpc** = raw data of all Dutch postal codes (n=471781; 13 columns; 46.8 Mb)\n",
    "- df_HaarlemPCLatM = temporary dataframe containing averaged latitudes for each postal code\n",
    "- df_HaarlemPCLonM = temporary dataframe containing averaged longitudes for each postal code\n",
    "- **df_Haarlem01** = all Haarlem postal codes, essential columns only (n=4123; 5 columns; 161.2 Kb)\n",
    "- df_Haarlem02 = temporary dataframe containing unique Haarlem postal codes, street names aggregated (3 columns)\n",
    "- **df_Haarlem03** = unique Haarlem postal codes, street names aggregated, latitude&longitude averaged (n=4032; 5 diff.columns; 157.6 Kb)\n",
    "- df_Haarlem04 = temporary dataframe containing unique Haarlem neighborhoods, street names aggregated (2 columns)\n",
    "- df_HaarlemNLatM = temporary dataframe containing averaged latitudes for each neighborhood\n",
    "- df_HaarlemNLonM = temporary dataframe containing averaged longitudes for each neighborhood\n",
    "- **df_Haarlem05** = all Haarlem neighborhoods, essential columns only (n=19; 4 columns; 0.736 Kb)\n",
    "- **df_HrlCluster** = definitive dataset, containing Haarlem neighborhoods, geodata, number and relative frequencies of nearby book stores and restaurants (n=19; 4 columns; 1.4 Kb)\n",
    "\n",
    "Inventory of generated maps:\n",
    "- Haarlem01_map = primary Haarlem map, centered around Station\n",
    "- Haarlem02_map = 01 with Central Station and neighborhoods superimposed\n",
    "- Haarlem03_map = 02 with book shops nearby superimposed\n",
    "- Haarlem04_map = 03 with restaurants nearby superimposed\n",
    "- HrlCluster_map = 01 with clustered neighborhoods indicated"
   ]
  },
  {
   "cell_type": "markdown",
   "metadata": {},
   "source": [
    "\n",
    "\n",
    "## 3. Methodology <a name=\"3\"></a>"
   ]
  },
  {
   "cell_type": "markdown",
   "metadata": {},
   "source": [
    "Will be presented in a separate report."
   ]
  },
  {
   "cell_type": "markdown",
   "metadata": {},
   "source": [
    "\n",
    "## 4. Exploratory Data Analysis <a name=\"4\"></a>"
   ]
  },
  {
   "cell_type": "markdown",
   "metadata": {},
   "source": [
    "### 4.1 Construction of the primary data set"
   ]
  },
  {
   "cell_type": "markdown",
   "metadata": {},
   "source": [
    "* Importing necessary libraries"
   ]
  },
  {
   "cell_type": "code",
   "execution_count": 1,
   "metadata": {
    "collapsed": true,
    "jupyter": {
     "outputs_hidden": true
    }
   },
   "outputs": [
    {
     "name": "stdout",
     "output_type": "stream",
     "text": [
      "Collecting xlrd\n",
      "\u001b[?25l  Downloading https://files.pythonhosted.org/packages/b0/16/63576a1a001752e34bf8ea62e367997530dc553b689356b9879339cf45a4/xlrd-1.2.0-py2.py3-none-any.whl (103kB)\n",
      "\u001b[K     |████████████████████████████████| 112kB 31.0MB/s eta 0:00:01\n",
      "\u001b[?25hInstalling collected packages: xlrd\n",
      "Successfully installed xlrd-1.2.0\n",
      "Solving environment: done\n",
      "\n",
      "\n",
      "==> WARNING: A newer version of conda exists. <==\n",
      "  current version: 4.5.11\n",
      "  latest version: 4.8.0\n",
      "\n",
      "Please update conda by running\n",
      "\n",
      "    $ conda update -n base -c defaults conda\n",
      "\n",
      "\n",
      "\n",
      "## Package Plan ##\n",
      "\n",
      "  environment location: /home/jupyterlab/conda/envs/python\n",
      "\n",
      "  added / updated specs: \n",
      "    - geopy\n",
      "\n",
      "\n",
      "The following packages will be downloaded:\n",
      "\n",
      "    package                    |            build\n",
      "    ---------------------------|-----------------\n",
      "    certifi-2019.11.28         |           py36_0         149 KB  conda-forge\n",
      "    scikit-learn-0.20.1        |   py36h22eb022_0         5.7 MB\n",
      "    liblapack-3.8.0            |      11_openblas          10 KB  conda-forge\n",
      "    scipy-1.3.2                |   py36h921218d_0        18.0 MB  conda-forge\n",
      "    geographiclib-1.50         |             py_0          34 KB  conda-forge\n",
      "    libopenblas-0.3.6          |       h5a2b251_2         7.7 MB\n",
      "    liblapacke-3.8.0           |      11_openblas          10 KB  conda-forge\n",
      "    numpy-1.17.3               |   py36h95a1406_0         5.2 MB  conda-forge\n",
      "    libcblas-3.8.0             |      11_openblas          10 KB  conda-forge\n",
      "    libblas-3.8.0              |      11_openblas          10 KB  conda-forge\n",
      "    geopy-1.20.0               |             py_0          57 KB  conda-forge\n",
      "    blas-2.11                  |         openblas          10 KB  conda-forge\n",
      "    ------------------------------------------------------------\n",
      "                                           Total:        36.9 MB\n",
      "\n",
      "The following NEW packages will be INSTALLED:\n",
      "\n",
      "    geographiclib: 1.50-py_0                              conda-forge\n",
      "    geopy:         1.20.0-py_0                            conda-forge\n",
      "    libblas:       3.8.0-11_openblas                      conda-forge\n",
      "    libcblas:      3.8.0-11_openblas                      conda-forge\n",
      "    liblapack:     3.8.0-11_openblas                      conda-forge\n",
      "    liblapacke:    3.8.0-11_openblas                      conda-forge\n",
      "    libopenblas:   0.3.6-h5a2b251_2                                  \n",
      "\n",
      "The following packages will be UPDATED:\n",
      "\n",
      "    blas:          1.1-openblas                           conda-forge --> 2.11-openblas         conda-forge\n",
      "    certifi:       2019.9.11-py36_0                       conda-forge --> 2019.11.28-py36_0     conda-forge\n",
      "    numpy:         1.16.2-py36_blas_openblash1522bff_0    conda-forge [blas_openblas] --> 1.17.3-py36h95a1406_0 conda-forge\n",
      "    scipy:         1.2.1-py36_blas_openblash1522bff_0     conda-forge [blas_openblas] --> 1.3.2-py36h921218d_0  conda-forge\n",
      "\n",
      "The following packages will be DOWNGRADED:\n",
      "\n",
      "    scikit-learn:  0.20.1-py36_blas_openblashebff5e3_1200 conda-forge [blas_openblas] --> 0.20.1-py36h22eb022_0            \n",
      "\n",
      "\n",
      "Downloading and Extracting Packages\n",
      "certifi-2019.11.28   | 149 KB    | ##################################### | 100% \n",
      "scikit-learn-0.20.1  | 5.7 MB    | ##################################### | 100% \n",
      "liblapack-3.8.0      | 10 KB     | ##################################### | 100% \n",
      "scipy-1.3.2          | 18.0 MB   | ##################################### | 100% \n",
      "geographiclib-1.50   | 34 KB     | ##################################### | 100% \n",
      "libopenblas-0.3.6    | 7.7 MB    | ##################################### | 100% \n",
      "liblapacke-3.8.0     | 10 KB     | ##################################### | 100% \n",
      "numpy-1.17.3         | 5.2 MB    | ##################################### | 100% \n",
      "libcblas-3.8.0       | 10 KB     | ##################################### | 100% \n",
      "libblas-3.8.0        | 10 KB     | ##################################### | 100% \n",
      "geopy-1.20.0         | 57 KB     | ##################################### | 100% \n",
      "blas-2.11            | 10 KB     | ##################################### | 100% \n",
      "Preparing transaction: done\n",
      "Verifying transaction: done\n",
      "Executing transaction: done\n",
      "Solving environment: done\n",
      "\n",
      "\n",
      "==> WARNING: A newer version of conda exists. <==\n",
      "  current version: 4.5.11\n",
      "  latest version: 4.8.0\n",
      "\n",
      "Please update conda by running\n",
      "\n",
      "    $ conda update -n base -c defaults conda\n",
      "\n",
      "\n",
      "\n",
      "# All requested packages already installed.\n",
      "\n"
     ]
    }
   ],
   "source": [
    "import numpy as np # data handling in a vectorized manner\n",
    "import pandas as pd # data analsysis\n",
    "pd.set_option('display.max_columns', None)\n",
    "pd.set_option('display.max_rows', None)\n",
    "!pip install xlrd # data extraction from Excel & conversion to pd dataframe\n",
    "import json # handling JSON files\n",
    "!conda install -c conda-forge geopy --yes\n",
    "from geopy.geocoders import Nominatim # address conversion into coordinates\n",
    "import requests # requests handling\n",
    "from pandas.io.json import json_normalize # tranforming JSON file into pandas dataframe\n",
    "import matplotlib.cm as cm # data plotting\n",
    "import matplotlib.colors as colors\n",
    "from sklearn.cluster import KMeans # cluster analysis\n",
    "!conda install -c conda-forge folium=0.5.0 --yes\n",
    "import folium # map rendering"
   ]
  },
  {
   "cell_type": "markdown",
   "metadata": {},
   "source": [
    "* Importing primary dataset"
   ]
  },
  {
   "cell_type": "markdown",
   "metadata": {},
   "source": [
    "Primary postal code Excel file was dowloaded as zip-file, extracted and stored locally in Skills Network Labs as postcodetabel.xlsx. \\\n",
    "This file contained 471781 records! \\\n",
    "To spare computational resources, this file was stripped to 4257 Haarlem-only records and stored as Haarlempostcodetabel.xlsx file"
   ]
  },
  {
   "cell_type": "markdown",
   "metadata": {},
   "source": [
    "* Inspection of the dataset"
   ]
  },
  {
   "cell_type": "code",
   "execution_count": 2,
   "metadata": {},
   "outputs": [
    {
     "data": {
      "text/html": [
       "<div>\n",
       "<style scoped>\n",
       "    .dataframe tbody tr th:only-of-type {\n",
       "        vertical-align: middle;\n",
       "    }\n",
       "\n",
       "    .dataframe tbody tr th {\n",
       "        vertical-align: top;\n",
       "    }\n",
       "\n",
       "    .dataframe thead th {\n",
       "        text-align: right;\n",
       "    }\n",
       "</style>\n",
       "<table border=\"1\" class=\"dataframe\">\n",
       "  <thead>\n",
       "    <tr style=\"text-align: right;\">\n",
       "      <th></th>\n",
       "      <th>PostcodeID</th>\n",
       "      <th>PostCodePK</th>\n",
       "      <th>PostCode</th>\n",
       "      <th>PostcodeNummers</th>\n",
       "      <th>PostcodeLetters</th>\n",
       "      <th>Straat</th>\n",
       "      <th>MinNummer</th>\n",
       "      <th>MaxNummer</th>\n",
       "      <th>Plaats</th>\n",
       "      <th>Gemeente</th>\n",
       "      <th>Provincie</th>\n",
       "      <th>Latitude</th>\n",
       "      <th>Longitude</th>\n",
       "    </tr>\n",
       "  </thead>\n",
       "  <tbody>\n",
       "    <tr>\n",
       "      <th>0</th>\n",
       "      <td>258150</td>\n",
       "      <td>2000AA_0</td>\n",
       "      <td>2000AA</td>\n",
       "      <td>2000</td>\n",
       "      <td>AA</td>\n",
       "      <td>Postbus</td>\n",
       "      <td>0</td>\n",
       "      <td>10000</td>\n",
       "      <td>Haarlem</td>\n",
       "      <td>Haarlem</td>\n",
       "      <td>Noord-Holland</td>\n",
       "      <td>52.381016</td>\n",
       "      <td>4.64567</td>\n",
       "    </tr>\n",
       "    <tr>\n",
       "      <th>1</th>\n",
       "      <td>430279</td>\n",
       "      <td>2000AB_0</td>\n",
       "      <td>2000AB</td>\n",
       "      <td>2000</td>\n",
       "      <td>AB</td>\n",
       "      <td>Postbus</td>\n",
       "      <td>0</td>\n",
       "      <td>10000</td>\n",
       "      <td>Haarlem</td>\n",
       "      <td>Haarlem</td>\n",
       "      <td>Noord-Holland</td>\n",
       "      <td>52.381016</td>\n",
       "      <td>4.64567</td>\n",
       "    </tr>\n",
       "    <tr>\n",
       "      <th>2</th>\n",
       "      <td>79515</td>\n",
       "      <td>2000AC_0</td>\n",
       "      <td>2000AC</td>\n",
       "      <td>2000</td>\n",
       "      <td>AC</td>\n",
       "      <td>Postbus</td>\n",
       "      <td>0</td>\n",
       "      <td>10000</td>\n",
       "      <td>Haarlem</td>\n",
       "      <td>Haarlem</td>\n",
       "      <td>Noord-Holland</td>\n",
       "      <td>52.381016</td>\n",
       "      <td>4.64567</td>\n",
       "    </tr>\n",
       "    <tr>\n",
       "      <th>3</th>\n",
       "      <td>88048</td>\n",
       "      <td>2000AD_0</td>\n",
       "      <td>2000AD</td>\n",
       "      <td>2000</td>\n",
       "      <td>AD</td>\n",
       "      <td>Postbus</td>\n",
       "      <td>0</td>\n",
       "      <td>10000</td>\n",
       "      <td>Haarlem</td>\n",
       "      <td>Haarlem</td>\n",
       "      <td>Noord-Holland</td>\n",
       "      <td>52.381016</td>\n",
       "      <td>4.64567</td>\n",
       "    </tr>\n",
       "    <tr>\n",
       "      <th>4</th>\n",
       "      <td>282603</td>\n",
       "      <td>2000AE_0</td>\n",
       "      <td>2000AE</td>\n",
       "      <td>2000</td>\n",
       "      <td>AE</td>\n",
       "      <td>Postbus</td>\n",
       "      <td>0</td>\n",
       "      <td>10000</td>\n",
       "      <td>Haarlem</td>\n",
       "      <td>Haarlem</td>\n",
       "      <td>Noord-Holland</td>\n",
       "      <td>52.381016</td>\n",
       "      <td>4.64567</td>\n",
       "    </tr>\n",
       "  </tbody>\n",
       "</table>\n",
       "</div>"
      ],
      "text/plain": [
       "   PostcodeID PostCodePK PostCode  PostcodeNummers PostcodeLetters   Straat  \\\n",
       "0      258150   2000AA_0   2000AA             2000              AA  Postbus   \n",
       "1      430279   2000AB_0   2000AB             2000              AB  Postbus   \n",
       "2       79515   2000AC_0   2000AC             2000              AC  Postbus   \n",
       "3       88048   2000AD_0   2000AD             2000              AD  Postbus   \n",
       "4      282603   2000AE_0   2000AE             2000              AE  Postbus   \n",
       "\n",
       "   MinNummer  MaxNummer   Plaats Gemeente      Provincie   Latitude  Longitude  \n",
       "0          0      10000  Haarlem  Haarlem  Noord-Holland  52.381016    4.64567  \n",
       "1          0      10000  Haarlem  Haarlem  Noord-Holland  52.381016    4.64567  \n",
       "2          0      10000  Haarlem  Haarlem  Noord-Holland  52.381016    4.64567  \n",
       "3          0      10000  Haarlem  Haarlem  Noord-Holland  52.381016    4.64567  \n",
       "4          0      10000  Haarlem  Haarlem  Noord-Holland  52.381016    4.64567  "
      ]
     },
     "execution_count": 2,
     "metadata": {},
     "output_type": "execute_result"
    }
   ],
   "source": [
    "path = 'Haarlempostcodetabel.xlsx'\n",
    "df_Haarlem01 = pd.read_excel(path)\n",
    "df_Haarlem01.head()"
   ]
  },
  {
   "cell_type": "code",
   "execution_count": 3,
   "metadata": {
    "collapsed": true,
    "jupyter": {
     "outputs_hidden": true
    }
   },
   "outputs": [
    {
     "name": "stdout",
     "output_type": "stream",
     "text": [
      "<class 'pandas.core.frame.DataFrame'>\n",
      "RangeIndex: 4257 entries, 0 to 4256\n",
      "Data columns (total 13 columns):\n",
      "PostcodeID         4257 non-null int64\n",
      "PostCodePK         4257 non-null object\n",
      "PostCode           4257 non-null object\n",
      "PostcodeNummers    4257 non-null int64\n",
      "PostcodeLetters    4246 non-null object\n",
      "Straat             4257 non-null object\n",
      "MinNummer          4257 non-null int64\n",
      "MaxNummer          4257 non-null int64\n",
      "Plaats             4257 non-null object\n",
      "Gemeente           4257 non-null object\n",
      "Provincie          4257 non-null object\n",
      "Latitude           4257 non-null float64\n",
      "Longitude          4257 non-null float64\n",
      "dtypes: float64(2), int64(4), object(7)\n",
      "memory usage: 432.5+ KB\n"
     ]
    }
   ],
   "source": [
    "df_Haarlem01.info()"
   ]
  },
  {
   "cell_type": "markdown",
   "metadata": {},
   "source": [
    "### 4.2 Data cleaning and Feature selection"
   ]
  },
  {
   "cell_type": "markdown",
   "metadata": {},
   "source": [
    "a) the raw Haarlem dataset"
   ]
  },
  {
   "cell_type": "code",
   "execution_count": 4,
   "metadata": {},
   "outputs": [
    {
     "name": "stdout",
     "output_type": "stream",
     "text": [
      "Number of records in the Haarlem-only dataset: 4257\n"
     ]
    }
   ],
   "source": [
    "print('Number of records in the Haarlem-only dataset:',df_Haarlem01.shape[0])"
   ]
  },
  {
   "cell_type": "code",
   "execution_count": 5,
   "metadata": {},
   "outputs": [
    {
     "name": "stdout",
     "output_type": "stream",
     "text": [
      "Remaining records in the dataset: 4123\n"
     ]
    }
   ],
   "source": [
    "# 4.2.2 'Postbus' (PO Box) values in column Straat are not informative (all with same geolocation)\n",
    "df_Haarlem01 = df_Haarlem01[df_Haarlem01.Straat != 'Postbus']\n",
    "df_Haarlem01.reset_index(drop=True,inplace=True)\n",
    "print('Remaining records in the dataset:',df_Haarlem01.shape[0])"
   ]
  },
  {
   "cell_type": "code",
   "execution_count": 6,
   "metadata": {
    "collapsed": true,
    "jupyter": {
     "outputs_hidden": true
    }
   },
   "outputs": [
    {
     "name": "stdout",
     "output_type": "stream",
     "text": [
      "PostcodeID\n",
      "False    4123\n",
      "Name: PostcodeID, dtype: int64\n",
      "PostCodePK\n",
      "False    4123\n",
      "Name: PostCodePK, dtype: int64\n",
      "PostCode\n",
      "False    4123\n",
      "Name: PostCode, dtype: int64\n",
      "PostcodeNummers\n",
      "False    4123\n",
      "Name: PostcodeNummers, dtype: int64\n",
      "PostcodeLetters\n",
      "False    4113\n",
      "True       10\n",
      "Name: PostcodeLetters, dtype: int64\n",
      "Straat\n",
      "False    4123\n",
      "Name: Straat, dtype: int64\n",
      "MinNummer\n",
      "False    4123\n",
      "Name: MinNummer, dtype: int64\n",
      "MaxNummer\n",
      "False    4123\n",
      "Name: MaxNummer, dtype: int64\n",
      "Plaats\n",
      "False    4123\n",
      "Name: Plaats, dtype: int64\n",
      "Gemeente\n",
      "False    4123\n",
      "Name: Gemeente, dtype: int64\n",
      "Provincie\n",
      "False    4123\n",
      "Name: Provincie, dtype: int64\n",
      "Latitude\n",
      "False    4123\n",
      "Name: Latitude, dtype: int64\n",
      "Longitude\n",
      "False    4123\n",
      "Name: Longitude, dtype: int64\n"
     ]
    }
   ],
   "source": [
    "# 4.2.3 Are there any missing values?\n",
    "missing = df_Haarlem01.isnull()\n",
    "for column in missing.columns.values.tolist():\n",
    "  print(column)\n",
    "  print(missing[column].value_counts())"
   ]
  },
  {
   "cell_type": "markdown",
   "metadata": {},
   "source": [
    "*feature selection*"
   ]
  },
  {
   "cell_type": "code",
   "execution_count": 7,
   "metadata": {},
   "outputs": [
    {
     "data": {
      "text/html": [
       "<div>\n",
       "<style scoped>\n",
       "    .dataframe tbody tr th:only-of-type {\n",
       "        vertical-align: middle;\n",
       "    }\n",
       "\n",
       "    .dataframe tbody tr th {\n",
       "        vertical-align: top;\n",
       "    }\n",
       "\n",
       "    .dataframe thead th {\n",
       "        text-align: right;\n",
       "    }\n",
       "</style>\n",
       "<table border=\"1\" class=\"dataframe\">\n",
       "  <thead>\n",
       "    <tr style=\"text-align: right;\">\n",
       "      <th></th>\n",
       "      <th>PostCode</th>\n",
       "      <th>PostcodeNummers</th>\n",
       "      <th>Straat</th>\n",
       "      <th>Latitude</th>\n",
       "      <th>Longitude</th>\n",
       "    </tr>\n",
       "  </thead>\n",
       "  <tbody>\n",
       "    <tr>\n",
       "      <th>0</th>\n",
       "      <td>2011AA</td>\n",
       "      <td>2011</td>\n",
       "      <td>Spaarnwouderstraat</td>\n",
       "      <td>52.379617</td>\n",
       "      <td>4.641031</td>\n",
       "    </tr>\n",
       "    <tr>\n",
       "      <th>1</th>\n",
       "      <td>2011AA</td>\n",
       "      <td>2011</td>\n",
       "      <td>Melkboersteeg</td>\n",
       "      <td>52.381016</td>\n",
       "      <td>4.645670</td>\n",
       "    </tr>\n",
       "    <tr>\n",
       "      <th>2</th>\n",
       "      <td>2011AB</td>\n",
       "      <td>2011</td>\n",
       "      <td>Sleutelstraat</td>\n",
       "      <td>52.380279</td>\n",
       "      <td>4.644150</td>\n",
       "    </tr>\n",
       "    <tr>\n",
       "      <th>3</th>\n",
       "      <td>2011AB</td>\n",
       "      <td>2011</td>\n",
       "      <td>Spaarnwouderstraat</td>\n",
       "      <td>52.380131</td>\n",
       "      <td>4.643988</td>\n",
       "    </tr>\n",
       "    <tr>\n",
       "      <th>4</th>\n",
       "      <td>2011AC</td>\n",
       "      <td>2011</td>\n",
       "      <td>Koralensteeg</td>\n",
       "      <td>52.380790</td>\n",
       "      <td>4.645376</td>\n",
       "    </tr>\n",
       "  </tbody>\n",
       "</table>\n",
       "</div>"
      ],
      "text/plain": [
       "  PostCode  PostcodeNummers              Straat   Latitude  Longitude\n",
       "0   2011AA             2011  Spaarnwouderstraat  52.379617   4.641031\n",
       "1   2011AA             2011       Melkboersteeg  52.381016   4.645670\n",
       "2   2011AB             2011       Sleutelstraat  52.380279   4.644150\n",
       "3   2011AB             2011  Spaarnwouderstraat  52.380131   4.643988\n",
       "4   2011AC             2011        Koralensteeg  52.380790   4.645376"
      ]
     },
     "execution_count": 7,
     "metadata": {},
     "output_type": "execute_result"
    }
   ],
   "source": [
    "# Yes, column PostcodeLetters is the only one containing (10) missing values\n",
    "# However, for our analysis we only need the columns PostCode, PostcodeNummers, Straat, Latitude and Longitude\n",
    "df_Haarlem01.drop(['PostcodeID','PostCodePK','PostcodeLetters','MinNummer','MaxNummer','Plaats','Gemeente','Provincie'],axis=1,inplace=True)\n",
    "df_Haarlem01.head()"
   ]
  },
  {
   "cell_type": "markdown",
   "metadata": {},
   "source": [
    "b) Haarlem Unique postal codes"
   ]
  },
  {
   "cell_type": "code",
   "execution_count": 8,
   "metadata": {},
   "outputs": [
    {
     "name": "stdout",
     "output_type": "stream",
     "text": [
      "Remaining records in the dataset: 4032\n"
     ]
    }
   ],
   "source": [
    "# 4.2.4 Aggregate streets based on unique Postcode in a new dataframe\n",
    "df_Haarlem02 = df_Haarlem01.groupby(['PostCode','PostcodeNummers'])['Straat'].apply(lambda x: \"%s\" % ', '.join(x)).reset_index()\n",
    "df_Haarlem02.rename(columns={'Straat':'StraatNamen'},inplace=True)\n",
    "print('Remaining records in the dataset:',df_Haarlem02.shape[0])"
   ]
  },
  {
   "cell_type": "code",
   "execution_count": 9,
   "metadata": {},
   "outputs": [
    {
     "data": {
      "text/html": [
       "<div>\n",
       "<style scoped>\n",
       "    .dataframe tbody tr th:only-of-type {\n",
       "        vertical-align: middle;\n",
       "    }\n",
       "\n",
       "    .dataframe tbody tr th {\n",
       "        vertical-align: top;\n",
       "    }\n",
       "\n",
       "    .dataframe thead th {\n",
       "        text-align: right;\n",
       "    }\n",
       "</style>\n",
       "<table border=\"1\" class=\"dataframe\">\n",
       "  <thead>\n",
       "    <tr style=\"text-align: right;\">\n",
       "      <th></th>\n",
       "      <th>PostCode</th>\n",
       "      <th>PostcodeNummers</th>\n",
       "      <th>StraatNamen</th>\n",
       "    </tr>\n",
       "  </thead>\n",
       "  <tbody>\n",
       "    <tr>\n",
       "      <th>0</th>\n",
       "      <td>2011AA</td>\n",
       "      <td>2011</td>\n",
       "      <td>Spaarnwouderstraat, Melkboersteeg</td>\n",
       "    </tr>\n",
       "    <tr>\n",
       "      <th>1</th>\n",
       "      <td>2011AB</td>\n",
       "      <td>2011</td>\n",
       "      <td>Sleutelstraat, Spaarnwouderstraat</td>\n",
       "    </tr>\n",
       "    <tr>\n",
       "      <th>2</th>\n",
       "      <td>2011AC</td>\n",
       "      <td>2011</td>\n",
       "      <td>Koralensteeg, Spaarnwouderstraat</td>\n",
       "    </tr>\n",
       "    <tr>\n",
       "      <th>3</th>\n",
       "      <td>2011AD</td>\n",
       "      <td>2011</td>\n",
       "      <td>Spaarnwouderstraat, Wijdesteeg</td>\n",
       "    </tr>\n",
       "    <tr>\n",
       "      <th>4</th>\n",
       "      <td>2011AE</td>\n",
       "      <td>2011</td>\n",
       "      <td>Ossenhoofdsteeg, Wijdesteeg, Spaarnwouderstraat</td>\n",
       "    </tr>\n",
       "  </tbody>\n",
       "</table>\n",
       "</div>"
      ],
      "text/plain": [
       "  PostCode  PostcodeNummers                                      StraatNamen\n",
       "0   2011AA             2011                Spaarnwouderstraat, Melkboersteeg\n",
       "1   2011AB             2011                Sleutelstraat, Spaarnwouderstraat\n",
       "2   2011AC             2011                 Koralensteeg, Spaarnwouderstraat\n",
       "3   2011AD             2011                   Spaarnwouderstraat, Wijdesteeg\n",
       "4   2011AE             2011  Ossenhoofdsteeg, Wijdesteeg, Spaarnwouderstraat"
      ]
     },
     "execution_count": 9,
     "metadata": {},
     "output_type": "execute_result"
    }
   ],
   "source": [
    "df_Haarlem02.head()"
   ]
  },
  {
   "cell_type": "code",
   "execution_count": 10,
   "metadata": {
    "collapsed": true,
    "jupyter": {
     "outputs_hidden": true
    }
   },
   "outputs": [
    {
     "data": {
      "text/html": [
       "<div>\n",
       "<style scoped>\n",
       "    .dataframe tbody tr th:only-of-type {\n",
       "        vertical-align: middle;\n",
       "    }\n",
       "\n",
       "    .dataframe tbody tr th {\n",
       "        vertical-align: top;\n",
       "    }\n",
       "\n",
       "    .dataframe thead th {\n",
       "        text-align: right;\n",
       "    }\n",
       "</style>\n",
       "<table border=\"1\" class=\"dataframe\">\n",
       "  <thead>\n",
       "    <tr style=\"text-align: right;\">\n",
       "      <th></th>\n",
       "      <th>PostCode</th>\n",
       "      <th>Latitude</th>\n",
       "    </tr>\n",
       "  </thead>\n",
       "  <tbody>\n",
       "    <tr>\n",
       "      <th>0</th>\n",
       "      <td>2011AA</td>\n",
       "      <td>52.380317</td>\n",
       "    </tr>\n",
       "    <tr>\n",
       "      <th>1</th>\n",
       "      <td>2011AB</td>\n",
       "      <td>52.380205</td>\n",
       "    </tr>\n",
       "    <tr>\n",
       "      <th>2</th>\n",
       "      <td>2011AC</td>\n",
       "      <td>52.380699</td>\n",
       "    </tr>\n",
       "    <tr>\n",
       "      <th>3</th>\n",
       "      <td>2011AD</td>\n",
       "      <td>52.379602</td>\n",
       "    </tr>\n",
       "    <tr>\n",
       "      <th>4</th>\n",
       "      <td>2011AE</td>\n",
       "      <td>52.379657</td>\n",
       "    </tr>\n",
       "  </tbody>\n",
       "</table>\n",
       "</div>"
      ],
      "text/plain": [
       "  PostCode   Latitude\n",
       "0   2011AA  52.380317\n",
       "1   2011AB  52.380205\n",
       "2   2011AC  52.380699\n",
       "3   2011AD  52.379602\n",
       "4   2011AE  52.379657"
      ]
     },
     "execution_count": 10,
     "metadata": {},
     "output_type": "execute_result"
    }
   ],
   "source": [
    "# Average latitude and longitude, pertaining to each unique postal code\n",
    "df_HaarlemPCLatM = df_Haarlem01.groupby('PostCode', as_index=False)['Latitude'].mean()\n",
    "df_HaarlemPCLatM.head()"
   ]
  },
  {
   "cell_type": "code",
   "execution_count": 11,
   "metadata": {
    "collapsed": true,
    "jupyter": {
     "outputs_hidden": true
    }
   },
   "outputs": [
    {
     "data": {
      "text/html": [
       "<div>\n",
       "<style scoped>\n",
       "    .dataframe tbody tr th:only-of-type {\n",
       "        vertical-align: middle;\n",
       "    }\n",
       "\n",
       "    .dataframe tbody tr th {\n",
       "        vertical-align: top;\n",
       "    }\n",
       "\n",
       "    .dataframe thead th {\n",
       "        text-align: right;\n",
       "    }\n",
       "</style>\n",
       "<table border=\"1\" class=\"dataframe\">\n",
       "  <thead>\n",
       "    <tr style=\"text-align: right;\">\n",
       "      <th></th>\n",
       "      <th>PostCode</th>\n",
       "      <th>Longitude</th>\n",
       "    </tr>\n",
       "  </thead>\n",
       "  <tbody>\n",
       "    <tr>\n",
       "      <th>0</th>\n",
       "      <td>2011AA</td>\n",
       "      <td>4.643351</td>\n",
       "    </tr>\n",
       "    <tr>\n",
       "      <th>1</th>\n",
       "      <td>2011AB</td>\n",
       "      <td>4.644069</td>\n",
       "    </tr>\n",
       "    <tr>\n",
       "      <th>2</th>\n",
       "      <td>2011AC</td>\n",
       "      <td>4.645494</td>\n",
       "    </tr>\n",
       "    <tr>\n",
       "      <th>3</th>\n",
       "      <td>2011AD</td>\n",
       "      <td>4.641006</td>\n",
       "    </tr>\n",
       "    <tr>\n",
       "      <th>4</th>\n",
       "      <td>2011AE</td>\n",
       "      <td>4.642028</td>\n",
       "    </tr>\n",
       "  </tbody>\n",
       "</table>\n",
       "</div>"
      ],
      "text/plain": [
       "  PostCode  Longitude\n",
       "0   2011AA   4.643351\n",
       "1   2011AB   4.644069\n",
       "2   2011AC   4.645494\n",
       "3   2011AD   4.641006\n",
       "4   2011AE   4.642028"
      ]
     },
     "execution_count": 11,
     "metadata": {},
     "output_type": "execute_result"
    }
   ],
   "source": [
    "df_HaarlemPCLonM = df_Haarlem01.groupby('PostCode', as_index=False)['Longitude'].mean()\n",
    "df_HaarlemPCLonM.head()"
   ]
  },
  {
   "cell_type": "code",
   "execution_count": 12,
   "metadata": {},
   "outputs": [
    {
     "data": {
      "text/plain": [
       "True"
      ]
     },
     "execution_count": 12,
     "metadata": {},
     "output_type": "execute_result"
    }
   ],
   "source": [
    "# These 3 datasets have corresponding indices (i.e. sorted on PostCode)\n",
    "# Check whether the datasets also have the same size\n",
    "len(df_Haarlem02) == len(df_HaarlemPCLatM) == len(df_HaarlemPCLonM)"
   ]
  },
  {
   "cell_type": "code",
   "execution_count": 13,
   "metadata": {},
   "outputs": [],
   "source": [
    "# So we can add the average latitude & longitude columns to a new dataframe\n",
    "df_Haarlem03 = df_Haarlem02\n",
    "df_Haarlem03['Latitude_m']=df_HaarlemPCLatM['Latitude']\n",
    "df_Haarlem03['Longitude_m']=df_HaarlemPCLonM['Longitude']"
   ]
  },
  {
   "cell_type": "code",
   "execution_count": 14,
   "metadata": {},
   "outputs": [
    {
     "data": {
      "text/html": [
       "<div>\n",
       "<style scoped>\n",
       "    .dataframe tbody tr th:only-of-type {\n",
       "        vertical-align: middle;\n",
       "    }\n",
       "\n",
       "    .dataframe tbody tr th {\n",
       "        vertical-align: top;\n",
       "    }\n",
       "\n",
       "    .dataframe thead th {\n",
       "        text-align: right;\n",
       "    }\n",
       "</style>\n",
       "<table border=\"1\" class=\"dataframe\">\n",
       "  <thead>\n",
       "    <tr style=\"text-align: right;\">\n",
       "      <th></th>\n",
       "      <th>PostCode</th>\n",
       "      <th>PostcodeNummers</th>\n",
       "      <th>StraatNamen</th>\n",
       "      <th>Latitude_m</th>\n",
       "      <th>Longitude_m</th>\n",
       "    </tr>\n",
       "  </thead>\n",
       "  <tbody>\n",
       "    <tr>\n",
       "      <th>0</th>\n",
       "      <td>2011AA</td>\n",
       "      <td>2011</td>\n",
       "      <td>Spaarnwouderstraat, Melkboersteeg</td>\n",
       "      <td>52.380317</td>\n",
       "      <td>4.643351</td>\n",
       "    </tr>\n",
       "    <tr>\n",
       "      <th>1</th>\n",
       "      <td>2011AB</td>\n",
       "      <td>2011</td>\n",
       "      <td>Sleutelstraat, Spaarnwouderstraat</td>\n",
       "      <td>52.380205</td>\n",
       "      <td>4.644069</td>\n",
       "    </tr>\n",
       "    <tr>\n",
       "      <th>2</th>\n",
       "      <td>2011AC</td>\n",
       "      <td>2011</td>\n",
       "      <td>Koralensteeg, Spaarnwouderstraat</td>\n",
       "      <td>52.380699</td>\n",
       "      <td>4.645494</td>\n",
       "    </tr>\n",
       "    <tr>\n",
       "      <th>3</th>\n",
       "      <td>2011AD</td>\n",
       "      <td>2011</td>\n",
       "      <td>Spaarnwouderstraat, Wijdesteeg</td>\n",
       "      <td>52.379602</td>\n",
       "      <td>4.641006</td>\n",
       "    </tr>\n",
       "    <tr>\n",
       "      <th>4</th>\n",
       "      <td>2011AE</td>\n",
       "      <td>2011</td>\n",
       "      <td>Ossenhoofdsteeg, Wijdesteeg, Spaarnwouderstraat</td>\n",
       "      <td>52.379657</td>\n",
       "      <td>4.642028</td>\n",
       "    </tr>\n",
       "  </tbody>\n",
       "</table>\n",
       "</div>"
      ],
      "text/plain": [
       "  PostCode  PostcodeNummers                                      StraatNamen  \\\n",
       "0   2011AA             2011                Spaarnwouderstraat, Melkboersteeg   \n",
       "1   2011AB             2011                Sleutelstraat, Spaarnwouderstraat   \n",
       "2   2011AC             2011                 Koralensteeg, Spaarnwouderstraat   \n",
       "3   2011AD             2011                   Spaarnwouderstraat, Wijdesteeg   \n",
       "4   2011AE             2011  Ossenhoofdsteeg, Wijdesteeg, Spaarnwouderstraat   \n",
       "\n",
       "   Latitude_m  Longitude_m  \n",
       "0   52.380317     4.643351  \n",
       "1   52.380205     4.644069  \n",
       "2   52.380699     4.645494  \n",
       "3   52.379602     4.641006  \n",
       "4   52.379657     4.642028  "
      ]
     },
     "execution_count": 14,
     "metadata": {},
     "output_type": "execute_result"
    }
   ],
   "source": [
    "df_Haarlem03.head()"
   ]
  },
  {
   "cell_type": "code",
   "execution_count": 15,
   "metadata": {
    "collapsed": true,
    "jupyter": {
     "outputs_hidden": true
    }
   },
   "outputs": [
    {
     "name": "stdout",
     "output_type": "stream",
     "text": [
      "<class 'pandas.core.frame.DataFrame'>\n",
      "RangeIndex: 4032 entries, 0 to 4031\n",
      "Data columns (total 5 columns):\n",
      "PostCode           4032 non-null object\n",
      "PostcodeNummers    4032 non-null int64\n",
      "StraatNamen        4032 non-null object\n",
      "Latitude_m         4032 non-null float64\n",
      "Longitude_m        4032 non-null float64\n",
      "dtypes: float64(2), int64(1), object(2)\n",
      "memory usage: 157.6+ KB\n"
     ]
    }
   ],
   "source": [
    "df_Haarlem03.info()"
   ]
  },
  {
   "cell_type": "markdown",
   "metadata": {},
   "source": [
    "c) Haarlem Unique neighborhoods"
   ]
  },
  {
   "cell_type": "code",
   "execution_count": 16,
   "metadata": {},
   "outputs": [
    {
     "name": "stdout",
     "output_type": "stream",
     "text": [
      "Number of unique neighborhoods: 19\n"
     ]
    }
   ],
   "source": [
    "# A valuable dataset. However, still 4032 entries left > aggregate into neighborhoods\n",
    "# How many neighborhoods are present\n",
    "print(\"Number of unique neighborhoods:\",df_Haarlem03['PostcodeNummers'].nunique())"
   ]
  },
  {
   "cell_type": "code",
   "execution_count": 17,
   "metadata": {},
   "outputs": [
    {
     "data": {
      "text/plain": [
       "array([2011, 2012, 2013, 2014, 2015, 2019, 2021, 2022, 2023, 2024, 2025,\n",
       "       2026, 2031, 2032, 2033, 2034, 2035, 2036, 2037])"
      ]
     },
     "execution_count": 17,
     "metadata": {},
     "output_type": "execute_result"
    }
   ],
   "source": [
    "# Which ones?\n",
    "df_Haarlem03['PostcodeNummers'].unique()"
   ]
  },
  {
   "cell_type": "code",
   "execution_count": 18,
   "metadata": {},
   "outputs": [],
   "source": [
    "# Create a new dataframe with 2 columns\n",
    "df_Haarlem04 = df_Haarlem03\n",
    "df_Haarlem04.drop('PostCode',axis=1,inplace=True)"
   ]
  },
  {
   "cell_type": "code",
   "execution_count": 19,
   "metadata": {},
   "outputs": [],
   "source": [
    "df_Haarlem04 = df_Haarlem04.groupby('PostcodeNummers')['StraatNamen'].apply(lambda x: \"%s\" % ', '.join(x)).reset_index()\n",
    "df_Haarlem04.rename(columns={'PostcodeNummers':'Wijk'},inplace=True)"
   ]
  },
  {
   "cell_type": "code",
   "execution_count": 20,
   "metadata": {
    "collapsed": true,
    "jupyter": {
     "outputs_hidden": true
    }
   },
   "outputs": [
    {
     "data": {
      "text/html": [
       "<div>\n",
       "<style scoped>\n",
       "    .dataframe tbody tr th:only-of-type {\n",
       "        vertical-align: middle;\n",
       "    }\n",
       "\n",
       "    .dataframe tbody tr th {\n",
       "        vertical-align: top;\n",
       "    }\n",
       "\n",
       "    .dataframe thead th {\n",
       "        text-align: right;\n",
       "    }\n",
       "</style>\n",
       "<table border=\"1\" class=\"dataframe\">\n",
       "  <thead>\n",
       "    <tr style=\"text-align: right;\">\n",
       "      <th></th>\n",
       "      <th>Wijk</th>\n",
       "      <th>StraatNamen</th>\n",
       "    </tr>\n",
       "  </thead>\n",
       "  <tbody>\n",
       "    <tr>\n",
       "      <th>0</th>\n",
       "      <td>2011</td>\n",
       "      <td>Spaarnwouderstraat, Melkboersteeg, Sleutelstra...</td>\n",
       "    </tr>\n",
       "    <tr>\n",
       "      <th>1</th>\n",
       "      <td>2012</td>\n",
       "      <td>Zuider Buiten Spaarne, Zuider Buiten Spaarne, ...</td>\n",
       "    </tr>\n",
       "    <tr>\n",
       "      <th>2</th>\n",
       "      <td>2013</td>\n",
       "      <td>Duvenvoordestraat, Duvenvoordestraat, Duvenvoo...</td>\n",
       "    </tr>\n",
       "    <tr>\n",
       "      <th>3</th>\n",
       "      <td>2014</td>\n",
       "      <td>Willem Bontekoestraat, Houtvaartpad, Houtmanka...</td>\n",
       "    </tr>\n",
       "    <tr>\n",
       "      <th>4</th>\n",
       "      <td>2015</td>\n",
       "      <td>Tulpenkade, Krokusstraat, Krokusstraat, Krokus...</td>\n",
       "    </tr>\n",
       "  </tbody>\n",
       "</table>\n",
       "</div>"
      ],
      "text/plain": [
       "   Wijk                                        StraatNamen\n",
       "0  2011  Spaarnwouderstraat, Melkboersteeg, Sleutelstra...\n",
       "1  2012  Zuider Buiten Spaarne, Zuider Buiten Spaarne, ...\n",
       "2  2013  Duvenvoordestraat, Duvenvoordestraat, Duvenvoo...\n",
       "3  2014  Willem Bontekoestraat, Houtvaartpad, Houtmanka...\n",
       "4  2015  Tulpenkade, Krokusstraat, Krokusstraat, Krokus..."
      ]
     },
     "execution_count": 20,
     "metadata": {},
     "output_type": "execute_result"
    }
   ],
   "source": [
    "df_Haarlem04.head()"
   ]
  },
  {
   "cell_type": "code",
   "execution_count": 21,
   "metadata": {
    "collapsed": true,
    "jupyter": {
     "outputs_hidden": true
    }
   },
   "outputs": [
    {
     "data": {
      "text/html": [
       "<div>\n",
       "<style scoped>\n",
       "    .dataframe tbody tr th:only-of-type {\n",
       "        vertical-align: middle;\n",
       "    }\n",
       "\n",
       "    .dataframe tbody tr th {\n",
       "        vertical-align: top;\n",
       "    }\n",
       "\n",
       "    .dataframe thead th {\n",
       "        text-align: right;\n",
       "    }\n",
       "</style>\n",
       "<table border=\"1\" class=\"dataframe\">\n",
       "  <thead>\n",
       "    <tr style=\"text-align: right;\">\n",
       "      <th></th>\n",
       "      <th>PostcodeNummers</th>\n",
       "      <th>Latitude_m</th>\n",
       "    </tr>\n",
       "  </thead>\n",
       "  <tbody>\n",
       "    <tr>\n",
       "      <th>0</th>\n",
       "      <td>2011</td>\n",
       "      <td>52.381240</td>\n",
       "    </tr>\n",
       "    <tr>\n",
       "      <th>1</th>\n",
       "      <td>2012</td>\n",
       "      <td>52.370950</td>\n",
       "    </tr>\n",
       "    <tr>\n",
       "      <th>2</th>\n",
       "      <td>2013</td>\n",
       "      <td>52.382397</td>\n",
       "    </tr>\n",
       "    <tr>\n",
       "      <th>3</th>\n",
       "      <td>2014</td>\n",
       "      <td>52.373490</td>\n",
       "    </tr>\n",
       "    <tr>\n",
       "      <th>4</th>\n",
       "      <td>2015</td>\n",
       "      <td>52.381513</td>\n",
       "    </tr>\n",
       "  </tbody>\n",
       "</table>\n",
       "</div>"
      ],
      "text/plain": [
       "   PostcodeNummers  Latitude_m\n",
       "0             2011   52.381240\n",
       "1             2012   52.370950\n",
       "2             2013   52.382397\n",
       "3             2014   52.373490\n",
       "4             2015   52.381513"
      ]
     },
     "execution_count": 21,
     "metadata": {},
     "output_type": "execute_result"
    }
   ],
   "source": [
    "# Average latitude and longitude, pertaining to each neighborhood\n",
    "df_HaarlemNLatM = df_Haarlem03.groupby('PostcodeNummers', as_index=False)['Latitude_m'].mean()\n",
    "df_HaarlemNLatM.head()"
   ]
  },
  {
   "cell_type": "code",
   "execution_count": 22,
   "metadata": {
    "collapsed": true,
    "jupyter": {
     "outputs_hidden": true
    }
   },
   "outputs": [
    {
     "data": {
      "text/html": [
       "<div>\n",
       "<style scoped>\n",
       "    .dataframe tbody tr th:only-of-type {\n",
       "        vertical-align: middle;\n",
       "    }\n",
       "\n",
       "    .dataframe tbody tr th {\n",
       "        vertical-align: top;\n",
       "    }\n",
       "\n",
       "    .dataframe thead th {\n",
       "        text-align: right;\n",
       "    }\n",
       "</style>\n",
       "<table border=\"1\" class=\"dataframe\">\n",
       "  <thead>\n",
       "    <tr style=\"text-align: right;\">\n",
       "      <th></th>\n",
       "      <th>PostcodeNummers</th>\n",
       "      <th>Longitude_m</th>\n",
       "    </tr>\n",
       "  </thead>\n",
       "  <tbody>\n",
       "    <tr>\n",
       "      <th>0</th>\n",
       "      <td>2011</td>\n",
       "      <td>4.635808</td>\n",
       "    </tr>\n",
       "    <tr>\n",
       "      <th>1</th>\n",
       "      <td>2012</td>\n",
       "      <td>4.629562</td>\n",
       "    </tr>\n",
       "    <tr>\n",
       "      <th>2</th>\n",
       "      <td>2013</td>\n",
       "      <td>4.624165</td>\n",
       "    </tr>\n",
       "    <tr>\n",
       "      <th>3</th>\n",
       "      <td>2014</td>\n",
       "      <td>4.614884</td>\n",
       "    </tr>\n",
       "    <tr>\n",
       "      <th>4</th>\n",
       "      <td>2015</td>\n",
       "      <td>4.609336</td>\n",
       "    </tr>\n",
       "  </tbody>\n",
       "</table>\n",
       "</div>"
      ],
      "text/plain": [
       "   PostcodeNummers  Longitude_m\n",
       "0             2011     4.635808\n",
       "1             2012     4.629562\n",
       "2             2013     4.624165\n",
       "3             2014     4.614884\n",
       "4             2015     4.609336"
      ]
     },
     "execution_count": 22,
     "metadata": {},
     "output_type": "execute_result"
    }
   ],
   "source": [
    "df_HaarlemNLonM = df_Haarlem03.groupby('PostcodeNummers', as_index=False)['Longitude_m'].mean()\n",
    "df_HaarlemNLonM.head()"
   ]
  },
  {
   "cell_type": "code",
   "execution_count": 23,
   "metadata": {},
   "outputs": [
    {
     "data": {
      "text/plain": [
       "True"
      ]
     },
     "execution_count": 23,
     "metadata": {},
     "output_type": "execute_result"
    }
   ],
   "source": [
    "len(df_Haarlem04) == len(df_HaarlemNLatM) == len(df_HaarlemNLonM)"
   ]
  },
  {
   "cell_type": "code",
   "execution_count": 24,
   "metadata": {},
   "outputs": [],
   "source": [
    "# Add the renewed average latitude & longitude columns into a new dataframe\n",
    "df_Haarlem05 = df_Haarlem04\n",
    "df_Haarlem05['Latitude_m']=df_HaarlemNLatM['Latitude_m']\n",
    "df_Haarlem05['Longitude_m']=df_HaarlemNLonM['Longitude_m']"
   ]
  },
  {
   "cell_type": "code",
   "execution_count": 25,
   "metadata": {},
   "outputs": [
    {
     "data": {
      "text/html": [
       "<div>\n",
       "<style scoped>\n",
       "    .dataframe tbody tr th:only-of-type {\n",
       "        vertical-align: middle;\n",
       "    }\n",
       "\n",
       "    .dataframe tbody tr th {\n",
       "        vertical-align: top;\n",
       "    }\n",
       "\n",
       "    .dataframe thead th {\n",
       "        text-align: right;\n",
       "    }\n",
       "</style>\n",
       "<table border=\"1\" class=\"dataframe\">\n",
       "  <thead>\n",
       "    <tr style=\"text-align: right;\">\n",
       "      <th></th>\n",
       "      <th>Wijk</th>\n",
       "      <th>StraatNamen</th>\n",
       "      <th>Latitude_m</th>\n",
       "      <th>Longitude_m</th>\n",
       "    </tr>\n",
       "  </thead>\n",
       "  <tbody>\n",
       "    <tr>\n",
       "      <th>0</th>\n",
       "      <td>2011</td>\n",
       "      <td>Spaarnwouderstraat, Melkboersteeg, Sleutelstra...</td>\n",
       "      <td>52.381240</td>\n",
       "      <td>4.635808</td>\n",
       "    </tr>\n",
       "    <tr>\n",
       "      <th>1</th>\n",
       "      <td>2012</td>\n",
       "      <td>Zuider Buiten Spaarne, Zuider Buiten Spaarne, ...</td>\n",
       "      <td>52.370950</td>\n",
       "      <td>4.629562</td>\n",
       "    </tr>\n",
       "    <tr>\n",
       "      <th>2</th>\n",
       "      <td>2013</td>\n",
       "      <td>Duvenvoordestraat, Duvenvoordestraat, Duvenvoo...</td>\n",
       "      <td>52.382397</td>\n",
       "      <td>4.624165</td>\n",
       "    </tr>\n",
       "    <tr>\n",
       "      <th>3</th>\n",
       "      <td>2014</td>\n",
       "      <td>Willem Bontekoestraat, Houtvaartpad, Houtmanka...</td>\n",
       "      <td>52.373490</td>\n",
       "      <td>4.614884</td>\n",
       "    </tr>\n",
       "    <tr>\n",
       "      <th>4</th>\n",
       "      <td>2015</td>\n",
       "      <td>Tulpenkade, Krokusstraat, Krokusstraat, Krokus...</td>\n",
       "      <td>52.381513</td>\n",
       "      <td>4.609336</td>\n",
       "    </tr>\n",
       "  </tbody>\n",
       "</table>\n",
       "</div>"
      ],
      "text/plain": [
       "   Wijk                                        StraatNamen  Latitude_m  \\\n",
       "0  2011  Spaarnwouderstraat, Melkboersteeg, Sleutelstra...   52.381240   \n",
       "1  2012  Zuider Buiten Spaarne, Zuider Buiten Spaarne, ...   52.370950   \n",
       "2  2013  Duvenvoordestraat, Duvenvoordestraat, Duvenvoo...   52.382397   \n",
       "3  2014  Willem Bontekoestraat, Houtvaartpad, Houtmanka...   52.373490   \n",
       "4  2015  Tulpenkade, Krokusstraat, Krokusstraat, Krokus...   52.381513   \n",
       "\n",
       "   Longitude_m  \n",
       "0     4.635808  \n",
       "1     4.629562  \n",
       "2     4.624165  \n",
       "3     4.614884  \n",
       "4     4.609336  "
      ]
     },
     "execution_count": 25,
     "metadata": {},
     "output_type": "execute_result"
    }
   ],
   "source": [
    "df_Haarlem05.head()"
   ]
  },
  {
   "cell_type": "code",
   "execution_count": 26,
   "metadata": {},
   "outputs": [
    {
     "name": "stdout",
     "output_type": "stream",
     "text": [
      "<class 'pandas.core.frame.DataFrame'>\n",
      "RangeIndex: 19 entries, 0 to 18\n",
      "Data columns (total 4 columns):\n",
      "Wijk           19 non-null object\n",
      "StraatNamen    19 non-null object\n",
      "Latitude_m     19 non-null float64\n",
      "Longitude_m    19 non-null float64\n",
      "dtypes: float64(2), object(2)\n",
      "memory usage: 736.0+ bytes\n"
     ]
    }
   ],
   "source": [
    "# Change datatype of Wijk from integer to object\n",
    "df_Haarlem05.Wijk = df_Haarlem05.Wijk.astype(str) # necessary to show labels on the map\n",
    "df_Haarlem05.info()"
   ]
  },
  {
   "cell_type": "markdown",
   "metadata": {},
   "source": [
    "### 4.3 Building primary map overview"
   ]
  },
  {
   "cell_type": "code",
   "execution_count": 27,
   "metadata": {},
   "outputs": [
    {
     "name": "stdout",
     "output_type": "stream",
     "text": [
      "Geographical coordinates of Haarlem: 52.38370575N, 4.64355969655963E.\n"
     ]
    }
   ],
   "source": [
    "# Geographical coordinates\n",
    "address = 'Haarlem'\n",
    "geolocator = Nominatim(user_agent=\"hrl_explorer\")\n",
    "location = geolocator.geocode(address)\n",
    "Hrl_lat = location.latitude\n",
    "Hrl_lon = location.longitude\n",
    "print('Geographical coordinates of {}: {}N, {}E.'.format(address, Hrl_lat, Hrl_lon))"
   ]
  },
  {
   "cell_type": "code",
   "execution_count": 28,
   "metadata": {},
   "outputs": [
    {
     "name": "stdout",
     "output_type": "stream",
     "text": [
      "Coordinates of Haarlem Station: 52.3880778N, 4.6385788E.\n"
     ]
    }
   ],
   "source": [
    "# However, our survey is centered around Haarlem Central Station\n",
    "address = 'Haarlem Stationsplein'\n",
    "geolocator = Nominatim(user_agent=\"hrl_explorer\")\n",
    "location = geolocator.geocode(address)\n",
    "HrlSt_lat = location.latitude\n",
    "HrlSt_lon = location.longitude\n",
    "print('Coordinates of Haarlem Station: {}N, {}E.'.format(HrlSt_lat, HrlSt_lon))"
   ]
  },
  {
   "cell_type": "code",
   "execution_count": 29,
   "metadata": {
    "collapsed": true,
    "jupyter": {
     "outputs_hidden": true
    }
   },
   "outputs": [
    {
     "data": {
      "text/html": [
       "<div style=\"width:100%;\"><div style=\"position:relative;width:100%;height:0;padding-bottom:60%;\"><iframe src=\"data:text/html;charset=utf-8;base64,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\" style=\"position:absolute;width:100%;height:100%;left:0;top:0;border:none !important;\" allowfullscreen webkitallowfullscreen mozallowfullscreen></iframe></div></div>"
      ],
      "text/plain": [
       "<folium.folium.Map at 0x7f1747f54a58>"
      ]
     },
     "execution_count": 29,
     "metadata": {},
     "output_type": "execute_result"
    }
   ],
   "source": [
    "# create the map\n",
    "Haarlem01_map = folium.Map(location=[HrlSt_lat,HrlSt_lon], zoom_start=13)\n",
    "Haarlem01_map"
   ]
  },
  {
   "cell_type": "code",
   "execution_count": 30,
   "metadata": {
    "collapsed": true,
    "jupyter": {
     "outputs_hidden": true
    }
   },
   "outputs": [
    {
     "data": {
      "text/html": [
       "<div style=\"width:100%;\"><div style=\"position:relative;width:100%;height:0;padding-bottom:60%;\"><iframe src=\"data:text/html;charset=utf-8;base64,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\" style=\"position:absolute;width:100%;height:100%;left:0;top:0;border:none !important;\" allowfullscreen webkitallowfullscreen mozallowfullscreen></iframe></div></div>"
      ],
      "text/plain": [
       "<folium.folium.Map at 0x7f1747f54a58>"
      ]
     },
     "execution_count": 30,
     "metadata": {},
     "output_type": "execute_result"
    }
   ],
   "source": [
    "folium.features.CircleMarker([HrlSt_lat, HrlSt_lon],radius=10,color= 'red',popup= 'STATION',fill = False,fill_color = 'red',fill_opacity = 0.6).add_to(Haarlem01_map)\n",
    "Haarlem01_map"
   ]
  },
  {
   "cell_type": "code",
   "execution_count": 31,
   "metadata": {
    "collapsed": true,
    "jupyter": {
     "outputs_hidden": true
    }
   },
   "outputs": [
    {
     "data": {
      "text/html": [
       "<div style=\"width:100%;\"><div style=\"position:relative;width:100%;height:0;padding-bottom:60%;\"><iframe src=\"data:text/html;charset=utf-8;base64,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\" style=\"position:absolute;width:100%;height:100%;left:0;top:0;border:none !important;\" allowfullscreen webkitallowfullscreen mozallowfullscreen></iframe></div></div>"
      ],
      "text/plain": [
       "<folium.folium.Map at 0x7f1747f54a58>"
      ]
     },
     "execution_count": 31,
     "metadata": {},
     "output_type": "execute_result"
    }
   ],
   "source": [
    "# instantiate a feature group for Haarlem neighborhoods in the dataframe\n",
    "Haarlem02_map = Haarlem01_map\n",
    "Haarlem_Neighbor = folium.map.FeatureGroup()\n",
    "# loop through all 19 neighborhoods and add each to the Haarlem_Neighbor feature group\n",
    "for lat, lng, label in zip(df_Haarlem05.Latitude_m, df_Haarlem05.Longitude_m, df_Haarlem05.Wijk):\n",
    "    Haarlem_Neighbor.add_child(folium.features.CircleMarker([lat, lng],radius=5, popup=label, color='grey',fill=True,fill_color='grey',fill_opacity=1.0))\n",
    "    label = folium.Popup(label, parse_html=True)\n",
    "# add neighborhoods to map\n",
    "Haarlem02_map.add_child(Haarlem_Neighbor)"
   ]
  },
  {
   "cell_type": "code",
   "execution_count": 32,
   "metadata": {},
   "outputs": [],
   "source": [
    "from geopy.distance import geodesic"
   ]
  },
  {
   "cell_type": "code",
   "execution_count": 33,
   "metadata": {},
   "outputs": [
    {
     "name": "stdout",
     "output_type": "stream",
     "text": [
      "The distance between neighborhoods 2012 and 2033 is 1905 m.\n"
     ]
    }
   ],
   "source": [
    "# Examining the distance between neighborhood centers by varying value of a and b\n",
    "a = 1 # recordA nr in dataframe\n",
    "b = 14 # recordB nr in dataframe\n",
    "A_name = df_Haarlem05.loc[a, 'Wijk']\n",
    "A_ll = (df_Haarlem05.loc[a, 'Latitude_m'],df_Haarlem05.loc[a, 'Longitude_m'])\n",
    "B_name = df_Haarlem05.loc[b, 'Wijk']\n",
    "B_ll = (df_Haarlem05.loc[b, 'Latitude_m'],df_Haarlem05.loc[b, 'Longitude_m'])\n",
    "print('The distance between neighborhoods', A_name, 'and', B_name, 'is',int(geodesic(A_ll, B_ll).m),'m.')"
   ]
  },
  {
   "cell_type": "markdown",
   "metadata": {},
   "source": [
    "Visual inspection of the Haarlem map & running the above code revealed the top 5 distances between nearby neighborhood centers:\n",
    "* 2012-2033: 1905 m \n",
    "* 2012-2032: 1792 m\n",
    "* 2019-2023: 1769 m\n",
    "* 2013-2023: 1717 m\n",
    "* 2031-2022: 1472 m\n",
    "\n",
    "Therefore, a radius of 1000 m was implemented in assigning features to a particular neighborhood using Foursquare (see 4.5). \\\n",
    "Greatest distances between neighborhood centers are: 2026-2036: 7459 m, 2026-2037: 6988 m, 2025-2036: 6943 m, 2025-2037: 6499 m, 2026-2034: 6390 m. \\\n",
    "Minimum distance between two postal code neighborhoods was 57 m (2011-2019). "
   ]
  },
  {
   "cell_type": "markdown",
   "metadata": {},
   "source": [
    "### 4.4 Creating definite map of Haarlem with feature (location) data from Foursquare"
   ]
  },
  {
   "cell_type": "code",
   "execution_count": 34,
   "metadata": {
    "jupyter": {
     "source_hidden": true
    }
   },
   "outputs": [
    {
     "name": "stdout",
     "output_type": "stream",
     "text": [
      "Foursquare credentials are hidden\n"
     ]
    }
   ],
   "source": [
    "# 4.3.1 Foursquare credentials\n",
    "ID = 'WNIALDO3G2WR10S3ZQYQR2ZSX03JJKOXMAUOOPP0AV2ZNFYZ' # Foursquare ID\n",
    "SECRET = '0VG3P0L1YLVHOVER103MD5A15OOZ0W2VLHJQQKPK2354IC5M' # Foursquare Secret\n",
    "version = '20191201'\n",
    "limit = 30\n",
    "print('Foursquare credentials are hidden')"
   ]
  },
  {
   "cell_type": "markdown",
   "metadata": {},
   "source": [
    "**a) book stores**"
   ]
  },
  {
   "cell_type": "code",
   "execution_count": 35,
   "metadata": {},
   "outputs": [],
   "source": [
    "# 4.3.2 Searching for book shops within 2.5 km of Haarlem Station (with latitude = HrlSt_lat & longitude = HrlSt_lon)\n",
    "search = 'boek'\n",
    "radius = 2500\n",
    "url = 'https://api.foursquare.com/v2/venues/search?client_id={}&client_secret={}&ll={},{}&v={}&query={}&radius={}&limit={}'.format(ID, SECRET, HrlSt_lat, HrlSt_lon, version, search, radius, limit)"
   ]
  },
  {
   "cell_type": "code",
   "execution_count": 36,
   "metadata": {
    "collapsed": true,
    "jupyter": {
     "outputs_hidden": true
    }
   },
   "outputs": [
    {
     "data": {
      "text/plain": [
       "{'meta': {'code': 200, 'requestId': '5df0eb8e542890001bd30ae0'},\n",
       " 'response': {'venues': [{'id': '4b925f13f964a52013f533e3',\n",
       "    'name': 'H. de Vries Boeken',\n",
       "    'location': {'address': 'Gedempte Oude Gracht 27',\n",
       "     'lat': 52.381420134616484,\n",
       "     'lng': 4.632425604352738,\n",
       "     'labeledLatLngs': [{'label': 'display',\n",
       "       'lat': 52.381420134616484,\n",
       "       'lng': 4.632425604352738}],\n",
       "     'distance': 850,\n",
       "     'postalCode': '2011 GK',\n",
       "     'cc': 'NL',\n",
       "     'city': 'Haarlem',\n",
       "     'state': 'Noord-Holland',\n",
       "     'country': 'Nederland',\n",
       "     'formattedAddress': ['Gedempte Oude Gracht 27',\n",
       "      '2011 GK Haarlem',\n",
       "      'Nederland']},\n",
       "    'categories': [{'id': '4bf58dd8d48988d114951735',\n",
       "      'name': 'Bookstore',\n",
       "      'pluralName': 'Bookstores',\n",
       "      'shortName': 'Bookstore',\n",
       "      'icon': {'prefix': 'https://ss3.4sqi.net/img/categories_v2/shops/bookstore_',\n",
       "       'suffix': '.png'},\n",
       "      'primary': True}],\n",
       "    'referralId': 'v-1576070035',\n",
       "    'hasPerk': False},\n",
       "   {'id': '4da03f5d58c2224b2ec04d79',\n",
       "    'name': 'Kennemer Boekhandel',\n",
       "    'location': {'address': 'Kleverparkweg 3',\n",
       "     'lat': 52.390936932934984,\n",
       "     'lng': 4.631174473306821,\n",
       "     'labeledLatLngs': [{'label': 'display',\n",
       "       'lat': 52.390936932934984,\n",
       "       'lng': 4.631174473306821}],\n",
       "     'distance': 595,\n",
       "     'cc': 'NL',\n",
       "     'city': 'Haarlem',\n",
       "     'state': 'Noord-Holland',\n",
       "     'country': 'Nederland',\n",
       "     'formattedAddress': ['Kleverparkweg 3', 'Haarlem', 'Nederland']},\n",
       "    'categories': [{'id': '4bf58dd8d48988d114951735',\n",
       "      'name': 'Bookstore',\n",
       "      'pluralName': 'Bookstores',\n",
       "      'shortName': 'Bookstore',\n",
       "      'icon': {'prefix': 'https://ss3.4sqi.net/img/categories_v2/shops/bookstore_',\n",
       "       'suffix': '.png'},\n",
       "      'primary': True}],\n",
       "    'referralId': 'v-1576070035',\n",
       "    'hasPerk': False},\n",
       "   {'id': '4cf3a02f7e0da1cd82b69d97',\n",
       "    'name': 'Boekenvoordeel',\n",
       "    'location': {'address': 'Grote Houtstraat 108',\n",
       "     'lat': 52.37802,\n",
       "     'lng': 4.632227,\n",
       "     'labeledLatLngs': [{'label': 'display',\n",
       "       'lat': 52.37802,\n",
       "       'lng': 4.632227}],\n",
       "     'distance': 1199,\n",
       "     'postalCode': '2011 ST',\n",
       "     'cc': 'NL',\n",
       "     'city': 'Haarlem',\n",
       "     'state': 'Noord-Holland',\n",
       "     'country': 'Nederland',\n",
       "     'formattedAddress': ['Grote Houtstraat 108',\n",
       "      '2011 ST Haarlem',\n",
       "      'Nederland']},\n",
       "    'categories': [{'id': '4bf58dd8d48988d114951735',\n",
       "      'name': 'Bookstore',\n",
       "      'pluralName': 'Bookstores',\n",
       "      'shortName': 'Bookstore',\n",
       "      'icon': {'prefix': 'https://ss3.4sqi.net/img/categories_v2/shops/bookstore_',\n",
       "       'suffix': '.png'},\n",
       "      'primary': True}],\n",
       "    'referralId': 'v-1576070035',\n",
       "    'hasPerk': False},\n",
       "   {'id': '4c419a4daf052d7f61907d79',\n",
       "    'name': 'Athenaeum Boekhandel',\n",
       "    'location': {'address': 'Gedempte Oude Gracht 70',\n",
       "     'lat': 52.38010449085371,\n",
       "     'lng': 4.632650799993149,\n",
       "     'labeledLatLngs': [{'label': 'display',\n",
       "       'lat': 52.38010449085371,\n",
       "       'lng': 4.632650799993149}],\n",
       "     'distance': 974,\n",
       "     'postalCode': '2011 GT',\n",
       "     'cc': 'NL',\n",
       "     'city': 'Haarlem',\n",
       "     'state': 'Noord-Holland',\n",
       "     'country': 'Nederland',\n",
       "     'formattedAddress': ['Gedempte Oude Gracht 70',\n",
       "      '2011 GT Haarlem',\n",
       "      'Nederland']},\n",
       "    'categories': [{'id': '4bf58dd8d48988d114951735',\n",
       "      'name': 'Bookstore',\n",
       "      'pluralName': 'Bookstores',\n",
       "      'shortName': 'Bookstore',\n",
       "      'icon': {'prefix': 'https://ss3.4sqi.net/img/categories_v2/shops/bookstore_',\n",
       "       'suffix': '.png'},\n",
       "      'primary': True}],\n",
       "    'referralId': 'v-1576070035',\n",
       "    'hasPerk': False},\n",
       "   {'id': '4c04d2630d0e0f47cd6a049a',\n",
       "    'name': 'Plantage boekhandel',\n",
       "    'location': {'address': 'Barteljorisstraat',\n",
       "     'lat': 52.38183468,\n",
       "     'lng': 4.635317,\n",
       "     'labeledLatLngs': [{'label': 'display',\n",
       "       'lat': 52.38183468,\n",
       "       'lng': 4.635317}],\n",
       "     'distance': 729,\n",
       "     'cc': 'NL',\n",
       "     'city': 'Haarlem',\n",
       "     'state': 'Noord-Holland',\n",
       "     'country': 'Nederland',\n",
       "     'formattedAddress': ['Barteljorisstraat', 'Haarlem', 'Nederland']},\n",
       "    'categories': [{'id': '4bf58dd8d48988d114951735',\n",
       "      'name': 'Bookstore',\n",
       "      'pluralName': 'Bookstores',\n",
       "      'shortName': 'Bookstore',\n",
       "      'icon': {'prefix': 'https://ss3.4sqi.net/img/categories_v2/shops/bookstore_',\n",
       "       'suffix': '.png'},\n",
       "      'primary': True}],\n",
       "    'referralId': 'v-1576070035',\n",
       "    'hasPerk': False},\n",
       "   {'id': '4dfb4092e4cd5679360841c7',\n",
       "    'name': 'Boekenhoek',\n",
       "    'location': {'lat': 52.375111,\n",
       "     'lng': 4.644473,\n",
       "     'labeledLatLngs': [{'label': 'display',\n",
       "       'lat': 52.375111,\n",
       "       'lng': 4.644473}],\n",
       "     'distance': 1497,\n",
       "     'cc': 'NL',\n",
       "     'city': 'Haarlem',\n",
       "     'state': 'Noord-Holland',\n",
       "     'country': 'Nederland',\n",
       "     'formattedAddress': ['Haarlem', 'Nederland']},\n",
       "    'categories': [],\n",
       "    'referralId': 'v-1576070035',\n",
       "    'hasPerk': False},\n",
       "   {'id': '4be2a58d660ec9286dd8c93b',\n",
       "    'name': 'Boekhandel Bloemendaal',\n",
       "    'location': {'lat': 52.40233083637072,\n",
       "     'lng': 4.618350659517572,\n",
       "     'labeledLatLngs': [{'label': 'display',\n",
       "       'lat': 52.40233083637072,\n",
       "       'lng': 4.618350659517572}],\n",
       "     'distance': 2098,\n",
       "     'cc': 'NL',\n",
       "     'country': 'Nederland',\n",
       "     'formattedAddress': ['Nederland']},\n",
       "    'categories': [{'id': '4bf58dd8d48988d114951735',\n",
       "      'name': 'Bookstore',\n",
       "      'pluralName': 'Bookstores',\n",
       "      'shortName': 'Bookstore',\n",
       "      'icon': {'prefix': 'https://ss3.4sqi.net/img/categories_v2/shops/bookstore_',\n",
       "       'suffix': '.png'},\n",
       "      'primary': True}],\n",
       "    'referralId': 'v-1576070035',\n",
       "    'hasPerk': False},\n",
       "   {'id': '54cc1d86498e7db4b0aeae0d',\n",
       "    'name': 'Gillissen & Co Boekhandel',\n",
       "    'location': {'address': 'Rijksstraatweg 125',\n",
       "     'lat': 52.4037642,\n",
       "     'lng': 4.6474741,\n",
       "     'labeledLatLngs': [{'label': 'display',\n",
       "       'lat': 52.4037642,\n",
       "       'lng': 4.6474741}],\n",
       "     'distance': 1847,\n",
       "     'postalCode': '2024 DC',\n",
       "     'cc': 'NL',\n",
       "     'city': 'Haarlem',\n",
       "     'state': 'Noord-Holland',\n",
       "     'country': 'Nederland',\n",
       "     'formattedAddress': ['Rijksstraatweg 125',\n",
       "      '2024 DC Haarlem',\n",
       "      'Nederland']},\n",
       "    'categories': [{'id': '4bf58dd8d48988d114951735',\n",
       "      'name': 'Bookstore',\n",
       "      'pluralName': 'Bookstores',\n",
       "      'shortName': 'Bookstore',\n",
       "      'icon': {'prefix': 'https://ss3.4sqi.net/img/categories_v2/shops/bookstore_',\n",
       "       'suffix': '.png'},\n",
       "      'primary': True}],\n",
       "    'referralId': 'v-1576070035',\n",
       "    'hasPerk': False},\n",
       "   {'id': '53d8eae6498ee8ce2303326e',\n",
       "    'name': \"'t Boekendaaltje\",\n",
       "    'location': {'lat': 52.402767181396484,\n",
       "     'lng': 4.618722915649414,\n",
       "     'labeledLatLngs': [{'label': 'display',\n",
       "       'lat': 52.402767181396484,\n",
       "       'lng': 4.618722915649414}],\n",
       "     'distance': 2119,\n",
       "     'cc': 'NL',\n",
       "     'country': 'Nederland',\n",
       "     'formattedAddress': ['Nederland']},\n",
       "    'categories': [{'id': '4bf58dd8d48988d114951735',\n",
       "      'name': 'Bookstore',\n",
       "      'pluralName': 'Bookstores',\n",
       "      'shortName': 'Bookstore',\n",
       "      'icon': {'prefix': 'https://ss3.4sqi.net/img/categories_v2/shops/bookstore_',\n",
       "       'suffix': '.png'},\n",
       "      'primary': True}],\n",
       "    'referralId': 'v-1576070035',\n",
       "    'hasPerk': False},\n",
       "   {'id': '561678ed498eb55f38cfbbdf',\n",
       "    'name': 'Nautilus Boekbinderij',\n",
       "    'location': {'address': 'Edisonstraat 30',\n",
       "     'lat': 52.36845,\n",
       "     'lng': 4.61432,\n",
       "     'labeledLatLngs': [{'label': 'display', 'lat': 52.36845, 'lng': 4.61432}],\n",
       "     'distance': 2737,\n",
       "     'postalCode': '2014 KJ',\n",
       "     'cc': 'NL',\n",
       "     'city': 'Haarlem',\n",
       "     'state': 'Noord-Holland',\n",
       "     'country': 'Nederland',\n",
       "     'formattedAddress': ['Edisonstraat 30', '2014 KJ Haarlem', 'Nederland']},\n",
       "    'categories': [{'id': '4bf58dd8d48988d1ff941735',\n",
       "      'name': 'Miscellaneous Shop',\n",
       "      'pluralName': 'Miscellaneous Shops',\n",
       "      'shortName': 'Shop',\n",
       "      'icon': {'prefix': 'https://ss3.4sqi.net/img/categories_v2/shops/default_',\n",
       "       'suffix': '.png'},\n",
       "      'primary': True}],\n",
       "    'referralId': 'v-1576070035',\n",
       "    'hasPerk': False}]}}"
      ]
     },
     "execution_count": 36,
     "metadata": {},
     "output_type": "execute_result"
    }
   ],
   "source": [
    "# Send the GET request\n",
    "HrlBook_result = requests.get(url).json()\n",
    "HrlBook_result"
   ]
  },
  {
   "cell_type": "code",
   "execution_count": 37,
   "metadata": {
    "collapsed": true,
    "jupyter": {
     "outputs_hidden": true
    }
   },
   "outputs": [
    {
     "data": {
      "text/html": [
       "<div>\n",
       "<style scoped>\n",
       "    .dataframe tbody tr th:only-of-type {\n",
       "        vertical-align: middle;\n",
       "    }\n",
       "\n",
       "    .dataframe tbody tr th {\n",
       "        vertical-align: top;\n",
       "    }\n",
       "\n",
       "    .dataframe thead th {\n",
       "        text-align: right;\n",
       "    }\n",
       "</style>\n",
       "<table border=\"1\" class=\"dataframe\">\n",
       "  <thead>\n",
       "    <tr style=\"text-align: right;\">\n",
       "      <th></th>\n",
       "      <th>id</th>\n",
       "      <th>name</th>\n",
       "      <th>categories</th>\n",
       "      <th>referralId</th>\n",
       "      <th>hasPerk</th>\n",
       "      <th>location.address</th>\n",
       "      <th>location.lat</th>\n",
       "      <th>location.lng</th>\n",
       "      <th>location.labeledLatLngs</th>\n",
       "      <th>location.distance</th>\n",
       "      <th>location.postalCode</th>\n",
       "      <th>location.cc</th>\n",
       "      <th>location.city</th>\n",
       "      <th>location.state</th>\n",
       "      <th>location.country</th>\n",
       "      <th>location.formattedAddress</th>\n",
       "    </tr>\n",
       "  </thead>\n",
       "  <tbody>\n",
       "    <tr>\n",
       "      <th>0</th>\n",
       "      <td>4b925f13f964a52013f533e3</td>\n",
       "      <td>H. de Vries Boeken</td>\n",
       "      <td>[{'id': '4bf58dd8d48988d114951735', 'name': 'B...</td>\n",
       "      <td>v-1576070035</td>\n",
       "      <td>False</td>\n",
       "      <td>Gedempte Oude Gracht 27</td>\n",
       "      <td>52.381420</td>\n",
       "      <td>4.632426</td>\n",
       "      <td>[{'label': 'display', 'lat': 52.38142013461648...</td>\n",
       "      <td>850</td>\n",
       "      <td>2011 GK</td>\n",
       "      <td>NL</td>\n",
       "      <td>Haarlem</td>\n",
       "      <td>Noord-Holland</td>\n",
       "      <td>Nederland</td>\n",
       "      <td>[Gedempte Oude Gracht 27, 2011 GK Haarlem, Ned...</td>\n",
       "    </tr>\n",
       "    <tr>\n",
       "      <th>1</th>\n",
       "      <td>4da03f5d58c2224b2ec04d79</td>\n",
       "      <td>Kennemer Boekhandel</td>\n",
       "      <td>[{'id': '4bf58dd8d48988d114951735', 'name': 'B...</td>\n",
       "      <td>v-1576070035</td>\n",
       "      <td>False</td>\n",
       "      <td>Kleverparkweg 3</td>\n",
       "      <td>52.390937</td>\n",
       "      <td>4.631174</td>\n",
       "      <td>[{'label': 'display', 'lat': 52.39093693293498...</td>\n",
       "      <td>595</td>\n",
       "      <td>NaN</td>\n",
       "      <td>NL</td>\n",
       "      <td>Haarlem</td>\n",
       "      <td>Noord-Holland</td>\n",
       "      <td>Nederland</td>\n",
       "      <td>[Kleverparkweg 3, Haarlem, Nederland]</td>\n",
       "    </tr>\n",
       "    <tr>\n",
       "      <th>2</th>\n",
       "      <td>4cf3a02f7e0da1cd82b69d97</td>\n",
       "      <td>Boekenvoordeel</td>\n",
       "      <td>[{'id': '4bf58dd8d48988d114951735', 'name': 'B...</td>\n",
       "      <td>v-1576070035</td>\n",
       "      <td>False</td>\n",
       "      <td>Grote Houtstraat 108</td>\n",
       "      <td>52.378020</td>\n",
       "      <td>4.632227</td>\n",
       "      <td>[{'label': 'display', 'lat': 52.37802, 'lng': ...</td>\n",
       "      <td>1199</td>\n",
       "      <td>2011 ST</td>\n",
       "      <td>NL</td>\n",
       "      <td>Haarlem</td>\n",
       "      <td>Noord-Holland</td>\n",
       "      <td>Nederland</td>\n",
       "      <td>[Grote Houtstraat 108, 2011 ST Haarlem, Nederl...</td>\n",
       "    </tr>\n",
       "    <tr>\n",
       "      <th>3</th>\n",
       "      <td>4c419a4daf052d7f61907d79</td>\n",
       "      <td>Athenaeum Boekhandel</td>\n",
       "      <td>[{'id': '4bf58dd8d48988d114951735', 'name': 'B...</td>\n",
       "      <td>v-1576070035</td>\n",
       "      <td>False</td>\n",
       "      <td>Gedempte Oude Gracht 70</td>\n",
       "      <td>52.380104</td>\n",
       "      <td>4.632651</td>\n",
       "      <td>[{'label': 'display', 'lat': 52.38010449085371...</td>\n",
       "      <td>974</td>\n",
       "      <td>2011 GT</td>\n",
       "      <td>NL</td>\n",
       "      <td>Haarlem</td>\n",
       "      <td>Noord-Holland</td>\n",
       "      <td>Nederland</td>\n",
       "      <td>[Gedempte Oude Gracht 70, 2011 GT Haarlem, Ned...</td>\n",
       "    </tr>\n",
       "    <tr>\n",
       "      <th>4</th>\n",
       "      <td>4c04d2630d0e0f47cd6a049a</td>\n",
       "      <td>Plantage boekhandel</td>\n",
       "      <td>[{'id': '4bf58dd8d48988d114951735', 'name': 'B...</td>\n",
       "      <td>v-1576070035</td>\n",
       "      <td>False</td>\n",
       "      <td>Barteljorisstraat</td>\n",
       "      <td>52.381835</td>\n",
       "      <td>4.635317</td>\n",
       "      <td>[{'label': 'display', 'lat': 52.38183468, 'lng...</td>\n",
       "      <td>729</td>\n",
       "      <td>NaN</td>\n",
       "      <td>NL</td>\n",
       "      <td>Haarlem</td>\n",
       "      <td>Noord-Holland</td>\n",
       "      <td>Nederland</td>\n",
       "      <td>[Barteljorisstraat, Haarlem, Nederland]</td>\n",
       "    </tr>\n",
       "  </tbody>\n",
       "</table>\n",
       "</div>"
      ],
      "text/plain": [
       "                         id                  name  \\\n",
       "0  4b925f13f964a52013f533e3    H. de Vries Boeken   \n",
       "1  4da03f5d58c2224b2ec04d79   Kennemer Boekhandel   \n",
       "2  4cf3a02f7e0da1cd82b69d97        Boekenvoordeel   \n",
       "3  4c419a4daf052d7f61907d79  Athenaeum Boekhandel   \n",
       "4  4c04d2630d0e0f47cd6a049a   Plantage boekhandel   \n",
       "\n",
       "                                          categories    referralId  hasPerk  \\\n",
       "0  [{'id': '4bf58dd8d48988d114951735', 'name': 'B...  v-1576070035    False   \n",
       "1  [{'id': '4bf58dd8d48988d114951735', 'name': 'B...  v-1576070035    False   \n",
       "2  [{'id': '4bf58dd8d48988d114951735', 'name': 'B...  v-1576070035    False   \n",
       "3  [{'id': '4bf58dd8d48988d114951735', 'name': 'B...  v-1576070035    False   \n",
       "4  [{'id': '4bf58dd8d48988d114951735', 'name': 'B...  v-1576070035    False   \n",
       "\n",
       "          location.address  location.lat  location.lng  \\\n",
       "0  Gedempte Oude Gracht 27     52.381420      4.632426   \n",
       "1          Kleverparkweg 3     52.390937      4.631174   \n",
       "2     Grote Houtstraat 108     52.378020      4.632227   \n",
       "3  Gedempte Oude Gracht 70     52.380104      4.632651   \n",
       "4        Barteljorisstraat     52.381835      4.635317   \n",
       "\n",
       "                             location.labeledLatLngs  location.distance  \\\n",
       "0  [{'label': 'display', 'lat': 52.38142013461648...                850   \n",
       "1  [{'label': 'display', 'lat': 52.39093693293498...                595   \n",
       "2  [{'label': 'display', 'lat': 52.37802, 'lng': ...               1199   \n",
       "3  [{'label': 'display', 'lat': 52.38010449085371...                974   \n",
       "4  [{'label': 'display', 'lat': 52.38183468, 'lng...                729   \n",
       "\n",
       "  location.postalCode location.cc location.city location.state  \\\n",
       "0             2011 GK          NL       Haarlem  Noord-Holland   \n",
       "1                 NaN          NL       Haarlem  Noord-Holland   \n",
       "2             2011 ST          NL       Haarlem  Noord-Holland   \n",
       "3             2011 GT          NL       Haarlem  Noord-Holland   \n",
       "4                 NaN          NL       Haarlem  Noord-Holland   \n",
       "\n",
       "  location.country                          location.formattedAddress  \n",
       "0        Nederland  [Gedempte Oude Gracht 27, 2011 GK Haarlem, Ned...  \n",
       "1        Nederland              [Kleverparkweg 3, Haarlem, Nederland]  \n",
       "2        Nederland  [Grote Houtstraat 108, 2011 ST Haarlem, Nederl...  \n",
       "3        Nederland  [Gedempte Oude Gracht 70, 2011 GT Haarlem, Ned...  \n",
       "4        Nederland            [Barteljorisstraat, Haarlem, Nederland]  "
      ]
     },
     "execution_count": 37,
     "metadata": {},
     "output_type": "execute_result"
    }
   ],
   "source": [
    "# assign relevant data of JSON file to Haarlem_Books & convert into dataframe df_HrlBook01\n",
    "Haarlem_Books = HrlBook_result['response']['venues'] # returns all metadata\n",
    "df_HrlBook01 = json_normalize(Haarlem_Books) # convert it to a dataframe\n",
    "df_HrlBook01.head()"
   ]
  },
  {
   "cell_type": "code",
   "execution_count": 38,
   "metadata": {},
   "outputs": [
    {
     "data": {
      "text/html": [
       "<div>\n",
       "<style scoped>\n",
       "    .dataframe tbody tr th:only-of-type {\n",
       "        vertical-align: middle;\n",
       "    }\n",
       "\n",
       "    .dataframe tbody tr th {\n",
       "        vertical-align: top;\n",
       "    }\n",
       "\n",
       "    .dataframe thead th {\n",
       "        text-align: right;\n",
       "    }\n",
       "</style>\n",
       "<table border=\"1\" class=\"dataframe\">\n",
       "  <thead>\n",
       "    <tr style=\"text-align: right;\">\n",
       "      <th></th>\n",
       "      <th>name</th>\n",
       "      <th>categories</th>\n",
       "      <th>address</th>\n",
       "      <th>lat</th>\n",
       "      <th>lng</th>\n",
       "      <th>labeledLatLngs</th>\n",
       "      <th>distance</th>\n",
       "      <th>postalCode</th>\n",
       "      <th>cc</th>\n",
       "      <th>city</th>\n",
       "      <th>state</th>\n",
       "      <th>country</th>\n",
       "      <th>formattedAddress</th>\n",
       "      <th>id</th>\n",
       "    </tr>\n",
       "  </thead>\n",
       "  <tbody>\n",
       "    <tr>\n",
       "      <th>0</th>\n",
       "      <td>H. de Vries Boeken</td>\n",
       "      <td>Bookstore</td>\n",
       "      <td>Gedempte Oude Gracht 27</td>\n",
       "      <td>52.381420</td>\n",
       "      <td>4.632426</td>\n",
       "      <td>[{'label': 'display', 'lat': 52.38142013461648...</td>\n",
       "      <td>850</td>\n",
       "      <td>2011 GK</td>\n",
       "      <td>NL</td>\n",
       "      <td>Haarlem</td>\n",
       "      <td>Noord-Holland</td>\n",
       "      <td>Nederland</td>\n",
       "      <td>[Gedempte Oude Gracht 27, 2011 GK Haarlem, Ned...</td>\n",
       "      <td>4b925f13f964a52013f533e3</td>\n",
       "    </tr>\n",
       "    <tr>\n",
       "      <th>1</th>\n",
       "      <td>Kennemer Boekhandel</td>\n",
       "      <td>Bookstore</td>\n",
       "      <td>Kleverparkweg 3</td>\n",
       "      <td>52.390937</td>\n",
       "      <td>4.631174</td>\n",
       "      <td>[{'label': 'display', 'lat': 52.39093693293498...</td>\n",
       "      <td>595</td>\n",
       "      <td>NaN</td>\n",
       "      <td>NL</td>\n",
       "      <td>Haarlem</td>\n",
       "      <td>Noord-Holland</td>\n",
       "      <td>Nederland</td>\n",
       "      <td>[Kleverparkweg 3, Haarlem, Nederland]</td>\n",
       "      <td>4da03f5d58c2224b2ec04d79</td>\n",
       "    </tr>\n",
       "    <tr>\n",
       "      <th>2</th>\n",
       "      <td>Boekenvoordeel</td>\n",
       "      <td>Bookstore</td>\n",
       "      <td>Grote Houtstraat 108</td>\n",
       "      <td>52.378020</td>\n",
       "      <td>4.632227</td>\n",
       "      <td>[{'label': 'display', 'lat': 52.37802, 'lng': ...</td>\n",
       "      <td>1199</td>\n",
       "      <td>2011 ST</td>\n",
       "      <td>NL</td>\n",
       "      <td>Haarlem</td>\n",
       "      <td>Noord-Holland</td>\n",
       "      <td>Nederland</td>\n",
       "      <td>[Grote Houtstraat 108, 2011 ST Haarlem, Nederl...</td>\n",
       "      <td>4cf3a02f7e0da1cd82b69d97</td>\n",
       "    </tr>\n",
       "    <tr>\n",
       "      <th>3</th>\n",
       "      <td>Athenaeum Boekhandel</td>\n",
       "      <td>Bookstore</td>\n",
       "      <td>Gedempte Oude Gracht 70</td>\n",
       "      <td>52.380104</td>\n",
       "      <td>4.632651</td>\n",
       "      <td>[{'label': 'display', 'lat': 52.38010449085371...</td>\n",
       "      <td>974</td>\n",
       "      <td>2011 GT</td>\n",
       "      <td>NL</td>\n",
       "      <td>Haarlem</td>\n",
       "      <td>Noord-Holland</td>\n",
       "      <td>Nederland</td>\n",
       "      <td>[Gedempte Oude Gracht 70, 2011 GT Haarlem, Ned...</td>\n",
       "      <td>4c419a4daf052d7f61907d79</td>\n",
       "    </tr>\n",
       "    <tr>\n",
       "      <th>4</th>\n",
       "      <td>Plantage boekhandel</td>\n",
       "      <td>Bookstore</td>\n",
       "      <td>Barteljorisstraat</td>\n",
       "      <td>52.381835</td>\n",
       "      <td>4.635317</td>\n",
       "      <td>[{'label': 'display', 'lat': 52.38183468, 'lng...</td>\n",
       "      <td>729</td>\n",
       "      <td>NaN</td>\n",
       "      <td>NL</td>\n",
       "      <td>Haarlem</td>\n",
       "      <td>Noord-Holland</td>\n",
       "      <td>Nederland</td>\n",
       "      <td>[Barteljorisstraat, Haarlem, Nederland]</td>\n",
       "      <td>4c04d2630d0e0f47cd6a049a</td>\n",
       "    </tr>\n",
       "    <tr>\n",
       "      <th>5</th>\n",
       "      <td>Boekenhoek</td>\n",
       "      <td>None</td>\n",
       "      <td>NaN</td>\n",
       "      <td>52.375111</td>\n",
       "      <td>4.644473</td>\n",
       "      <td>[{'label': 'display', 'lat': 52.375111, 'lng':...</td>\n",
       "      <td>1497</td>\n",
       "      <td>NaN</td>\n",
       "      <td>NL</td>\n",
       "      <td>Haarlem</td>\n",
       "      <td>Noord-Holland</td>\n",
       "      <td>Nederland</td>\n",
       "      <td>[Haarlem, Nederland]</td>\n",
       "      <td>4dfb4092e4cd5679360841c7</td>\n",
       "    </tr>\n",
       "    <tr>\n",
       "      <th>6</th>\n",
       "      <td>Boekhandel Bloemendaal</td>\n",
       "      <td>Bookstore</td>\n",
       "      <td>NaN</td>\n",
       "      <td>52.402331</td>\n",
       "      <td>4.618351</td>\n",
       "      <td>[{'label': 'display', 'lat': 52.40233083637072...</td>\n",
       "      <td>2098</td>\n",
       "      <td>NaN</td>\n",
       "      <td>NL</td>\n",
       "      <td>NaN</td>\n",
       "      <td>NaN</td>\n",
       "      <td>Nederland</td>\n",
       "      <td>[Nederland]</td>\n",
       "      <td>4be2a58d660ec9286dd8c93b</td>\n",
       "    </tr>\n",
       "    <tr>\n",
       "      <th>7</th>\n",
       "      <td>Gillissen &amp; Co Boekhandel</td>\n",
       "      <td>Bookstore</td>\n",
       "      <td>Rijksstraatweg 125</td>\n",
       "      <td>52.403764</td>\n",
       "      <td>4.647474</td>\n",
       "      <td>[{'label': 'display', 'lat': 52.4037642, 'lng'...</td>\n",
       "      <td>1847</td>\n",
       "      <td>2024 DC</td>\n",
       "      <td>NL</td>\n",
       "      <td>Haarlem</td>\n",
       "      <td>Noord-Holland</td>\n",
       "      <td>Nederland</td>\n",
       "      <td>[Rijksstraatweg 125, 2024 DC Haarlem, Nederland]</td>\n",
       "      <td>54cc1d86498e7db4b0aeae0d</td>\n",
       "    </tr>\n",
       "    <tr>\n",
       "      <th>8</th>\n",
       "      <td>'t Boekendaaltje</td>\n",
       "      <td>Bookstore</td>\n",
       "      <td>NaN</td>\n",
       "      <td>52.402767</td>\n",
       "      <td>4.618723</td>\n",
       "      <td>[{'label': 'display', 'lat': 52.40276718139648...</td>\n",
       "      <td>2119</td>\n",
       "      <td>NaN</td>\n",
       "      <td>NL</td>\n",
       "      <td>NaN</td>\n",
       "      <td>NaN</td>\n",
       "      <td>Nederland</td>\n",
       "      <td>[Nederland]</td>\n",
       "      <td>53d8eae6498ee8ce2303326e</td>\n",
       "    </tr>\n",
       "    <tr>\n",
       "      <th>9</th>\n",
       "      <td>Nautilus Boekbinderij</td>\n",
       "      <td>Miscellaneous Shop</td>\n",
       "      <td>Edisonstraat 30</td>\n",
       "      <td>52.368450</td>\n",
       "      <td>4.614320</td>\n",
       "      <td>[{'label': 'display', 'lat': 52.36845, 'lng': ...</td>\n",
       "      <td>2737</td>\n",
       "      <td>2014 KJ</td>\n",
       "      <td>NL</td>\n",
       "      <td>Haarlem</td>\n",
       "      <td>Noord-Holland</td>\n",
       "      <td>Nederland</td>\n",
       "      <td>[Edisonstraat 30, 2014 KJ Haarlem, Nederland]</td>\n",
       "      <td>561678ed498eb55f38cfbbdf</td>\n",
       "    </tr>\n",
       "  </tbody>\n",
       "</table>\n",
       "</div>"
      ],
      "text/plain": [
       "                        name          categories                  address  \\\n",
       "0         H. de Vries Boeken           Bookstore  Gedempte Oude Gracht 27   \n",
       "1        Kennemer Boekhandel           Bookstore          Kleverparkweg 3   \n",
       "2             Boekenvoordeel           Bookstore     Grote Houtstraat 108   \n",
       "3       Athenaeum Boekhandel           Bookstore  Gedempte Oude Gracht 70   \n",
       "4        Plantage boekhandel           Bookstore        Barteljorisstraat   \n",
       "5                 Boekenhoek                None                      NaN   \n",
       "6     Boekhandel Bloemendaal           Bookstore                      NaN   \n",
       "7  Gillissen & Co Boekhandel           Bookstore       Rijksstraatweg 125   \n",
       "8           't Boekendaaltje           Bookstore                      NaN   \n",
       "9      Nautilus Boekbinderij  Miscellaneous Shop          Edisonstraat 30   \n",
       "\n",
       "         lat       lng                                     labeledLatLngs  \\\n",
       "0  52.381420  4.632426  [{'label': 'display', 'lat': 52.38142013461648...   \n",
       "1  52.390937  4.631174  [{'label': 'display', 'lat': 52.39093693293498...   \n",
       "2  52.378020  4.632227  [{'label': 'display', 'lat': 52.37802, 'lng': ...   \n",
       "3  52.380104  4.632651  [{'label': 'display', 'lat': 52.38010449085371...   \n",
       "4  52.381835  4.635317  [{'label': 'display', 'lat': 52.38183468, 'lng...   \n",
       "5  52.375111  4.644473  [{'label': 'display', 'lat': 52.375111, 'lng':...   \n",
       "6  52.402331  4.618351  [{'label': 'display', 'lat': 52.40233083637072...   \n",
       "7  52.403764  4.647474  [{'label': 'display', 'lat': 52.4037642, 'lng'...   \n",
       "8  52.402767  4.618723  [{'label': 'display', 'lat': 52.40276718139648...   \n",
       "9  52.368450  4.614320  [{'label': 'display', 'lat': 52.36845, 'lng': ...   \n",
       "\n",
       "   distance postalCode  cc     city          state    country  \\\n",
       "0       850    2011 GK  NL  Haarlem  Noord-Holland  Nederland   \n",
       "1       595        NaN  NL  Haarlem  Noord-Holland  Nederland   \n",
       "2      1199    2011 ST  NL  Haarlem  Noord-Holland  Nederland   \n",
       "3       974    2011 GT  NL  Haarlem  Noord-Holland  Nederland   \n",
       "4       729        NaN  NL  Haarlem  Noord-Holland  Nederland   \n",
       "5      1497        NaN  NL  Haarlem  Noord-Holland  Nederland   \n",
       "6      2098        NaN  NL      NaN            NaN  Nederland   \n",
       "7      1847    2024 DC  NL  Haarlem  Noord-Holland  Nederland   \n",
       "8      2119        NaN  NL      NaN            NaN  Nederland   \n",
       "9      2737    2014 KJ  NL  Haarlem  Noord-Holland  Nederland   \n",
       "\n",
       "                                    formattedAddress                        id  \n",
       "0  [Gedempte Oude Gracht 27, 2011 GK Haarlem, Ned...  4b925f13f964a52013f533e3  \n",
       "1              [Kleverparkweg 3, Haarlem, Nederland]  4da03f5d58c2224b2ec04d79  \n",
       "2  [Grote Houtstraat 108, 2011 ST Haarlem, Nederl...  4cf3a02f7e0da1cd82b69d97  \n",
       "3  [Gedempte Oude Gracht 70, 2011 GT Haarlem, Ned...  4c419a4daf052d7f61907d79  \n",
       "4            [Barteljorisstraat, Haarlem, Nederland]  4c04d2630d0e0f47cd6a049a  \n",
       "5                               [Haarlem, Nederland]  4dfb4092e4cd5679360841c7  \n",
       "6                                        [Nederland]  4be2a58d660ec9286dd8c93b  \n",
       "7   [Rijksstraatweg 125, 2024 DC Haarlem, Nederland]  54cc1d86498e7db4b0aeae0d  \n",
       "8                                        [Nederland]  53d8eae6498ee8ce2303326e  \n",
       "9      [Edisonstraat 30, 2014 KJ Haarlem, Nederland]  561678ed498eb55f38cfbbdf  "
      ]
     },
     "execution_count": 38,
     "metadata": {},
     "output_type": "execute_result"
    }
   ],
   "source": [
    "# retain the book store (venue) names, and features associated with location\n",
    "# create a new dataframe df_HrlBook02\n",
    "f_columns = ['name', 'categories'] + [col for col in df_HrlBook01.columns if col.startswith('location.')] + ['id'] # columns we need in dataframe\n",
    "df_HrlBook02 = df_HrlBook01.loc[:, f_columns] # append these columns at end\n",
    "# function to extract category of the venue\n",
    "def get_category_type(row):\n",
    "    try:\n",
    "        categories_list = row['categories']\n",
    "    except:\n",
    "        categories_list = row['venue.categories']\n",
    "        \n",
    "    if len(categories_list) == 0:\n",
    "        return None\n",
    "    else:\n",
    "        return categories_list[0]['name']\n",
    "# filter the category for each row\n",
    "df_HrlBook02['categories'] = df_HrlBook02.apply(get_category_type, axis=1)\n",
    "# clean column names by keeping only last term\n",
    "df_HrlBook02.columns = [column.split('.')[-1] for column in df_HrlBook02.columns] # everything before the point is deleted\n",
    "df_HrlBook02.head(10)"
   ]
  },
  {
   "cell_type": "code",
   "execution_count": 39,
   "metadata": {
    "collapsed": true,
    "jupyter": {
     "outputs_hidden": true
    }
   },
   "outputs": [
    {
     "name": "stdout",
     "output_type": "stream",
     "text": [
      "<class 'pandas.core.frame.DataFrame'>\n",
      "RangeIndex: 10 entries, 0 to 9\n",
      "Data columns (total 14 columns):\n",
      "name                10 non-null object\n",
      "categories          9 non-null object\n",
      "address             7 non-null object\n",
      "lat                 10 non-null float64\n",
      "lng                 10 non-null float64\n",
      "labeledLatLngs      10 non-null object\n",
      "distance            10 non-null int64\n",
      "postalCode          5 non-null object\n",
      "cc                  10 non-null object\n",
      "city                8 non-null object\n",
      "state               8 non-null object\n",
      "country             10 non-null object\n",
      "formattedAddress    10 non-null object\n",
      "id                  10 non-null object\n",
      "dtypes: float64(2), int64(1), object(11)\n",
      "memory usage: 1.2+ KB\n"
     ]
    }
   ],
   "source": [
    "df_HrlBook02.info()"
   ]
  },
  {
   "cell_type": "code",
   "execution_count": 40,
   "metadata": {},
   "outputs": [
    {
     "name": "stdout",
     "output_type": "stream",
     "text": [
      "Number of nearby book stores: 10\n"
     ]
    },
    {
     "data": {
      "text/plain": [
       "0           H. de Vries Boeken\n",
       "1          Kennemer Boekhandel\n",
       "2               Boekenvoordeel\n",
       "3         Athenaeum Boekhandel\n",
       "4          Plantage boekhandel\n",
       "5                   Boekenhoek\n",
       "6       Boekhandel Bloemendaal\n",
       "7    Gillissen & Co Boekhandel\n",
       "8             't Boekendaaltje\n",
       "9        Nautilus Boekbinderij\n",
       "Name: name, dtype: object"
      ]
     },
     "execution_count": 40,
     "metadata": {},
     "output_type": "execute_result"
    }
   ],
   "source": [
    "print(\"Number of nearby book stores:\",df_HrlBook02.shape[0])\n",
    "df_HrlBook02.name"
   ]
  },
  {
   "cell_type": "code",
   "execution_count": 41,
   "metadata": {
    "collapsed": true,
    "jupyter": {
     "outputs_hidden": true
    }
   },
   "outputs": [
    {
     "data": {
      "text/html": [
       "<div style=\"width:100%;\"><div style=\"position:relative;width:100%;height:0;padding-bottom:60%;\"><iframe src=\"data:text/html;charset=utf-8;base64,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\" style=\"position:absolute;width:100%;height:100%;left:0;top:0;border:none !important;\" allowfullscreen webkitallowfullscreen mozallowfullscreen></iframe></div></div>"
      ],
      "text/plain": [
       "<folium.folium.Map at 0x7f1747f54a58>"
      ]
     },
     "execution_count": 41,
     "metadata": {},
     "output_type": "execute_result"
    }
   ],
   "source": [
    "# Visualize the book stores on a new map Haarlem03\n",
    "Haarlem03_map = Haarlem02_map\n",
    "# instantiate a feature group for Haarlem book stores in the dataframe\n",
    "Haarlem_Bookstore = folium.map.FeatureGroup()\n",
    "# loop through all book shops and add each to the Haarlem_Bookstore feature group\n",
    "for lat, lng, lab in zip(df_HrlBook02.lat, df_HrlBook02.lng, df_HrlBook02.name):\n",
    "    label = folium.Popup(lab, parse_html=True)\n",
    "    Haarlem_Bookstore.add_child(folium.features.CircleMarker([lat, lng],radius=6, popup=label, color='red', fill=True,fill_color='orange',fill_opacity=0.6))\n",
    "# add book stores to map\n",
    "Haarlem03_map.add_child(Haarlem_Bookstore)\n",
    "Haarlem03_map"
   ]
  },
  {
   "cell_type": "markdown",
   "metadata": {},
   "source": [
    "**b) restaurants**"
   ]
  },
  {
   "cell_type": "code",
   "execution_count": 42,
   "metadata": {
    "collapsed": true,
    "jupyter": {
     "outputs_hidden": true
    }
   },
   "outputs": [
    {
     "data": {
      "text/html": [
       "<div>\n",
       "<style scoped>\n",
       "    .dataframe tbody tr th:only-of-type {\n",
       "        vertical-align: middle;\n",
       "    }\n",
       "\n",
       "    .dataframe tbody tr th {\n",
       "        vertical-align: top;\n",
       "    }\n",
       "\n",
       "    .dataframe thead th {\n",
       "        text-align: right;\n",
       "    }\n",
       "</style>\n",
       "<table border=\"1\" class=\"dataframe\">\n",
       "  <thead>\n",
       "    <tr style=\"text-align: right;\">\n",
       "      <th></th>\n",
       "      <th>name</th>\n",
       "      <th>categories</th>\n",
       "      <th>address</th>\n",
       "      <th>lat</th>\n",
       "      <th>lng</th>\n",
       "      <th>labeledLatLngs</th>\n",
       "      <th>distance</th>\n",
       "      <th>postalCode</th>\n",
       "      <th>cc</th>\n",
       "      <th>city</th>\n",
       "      <th>state</th>\n",
       "      <th>country</th>\n",
       "      <th>formattedAddress</th>\n",
       "      <th>neighborhood</th>\n",
       "      <th>crossStreet</th>\n",
       "      <th>id</th>\n",
       "    </tr>\n",
       "  </thead>\n",
       "  <tbody>\n",
       "    <tr>\n",
       "      <th>0</th>\n",
       "      <td>Café-Bar-Restaurant Beijneshal</td>\n",
       "      <td>Sports Bar</td>\n",
       "      <td>Stationsplein 134</td>\n",
       "      <td>52.387498</td>\n",
       "      <td>4.638173</td>\n",
       "      <td>[{'label': 'display', 'lat': 52.38749846617937...</td>\n",
       "      <td>70</td>\n",
       "      <td>2011 LN</td>\n",
       "      <td>NL</td>\n",
       "      <td>Haarlem</td>\n",
       "      <td>Noord-Holland</td>\n",
       "      <td>Nederland</td>\n",
       "      <td>[Stationsplein 134, 2011 LN Haarlem, Nederland]</td>\n",
       "      <td>NaN</td>\n",
       "      <td>NaN</td>\n",
       "      <td>4cd038907b6854810430c0f8</td>\n",
       "    </tr>\n",
       "    <tr>\n",
       "      <th>1</th>\n",
       "      <td>Hotel-Restaurant Carillon</td>\n",
       "      <td>Restaurant</td>\n",
       "      <td>Grote Markt 27</td>\n",
       "      <td>52.381419</td>\n",
       "      <td>4.637040</td>\n",
       "      <td>[{'label': 'display', 'lat': 52.38141908009712...</td>\n",
       "      <td>748</td>\n",
       "      <td>2011 RC</td>\n",
       "      <td>NL</td>\n",
       "      <td>Haarlem</td>\n",
       "      <td>Noord-Holland</td>\n",
       "      <td>Nederland</td>\n",
       "      <td>[Grote Markt 27, 2011 RC Haarlem, Nederland]</td>\n",
       "      <td>NaN</td>\n",
       "      <td>NaN</td>\n",
       "      <td>4b06d293f964a520e0f022e3</td>\n",
       "    </tr>\n",
       "    <tr>\n",
       "      <th>2</th>\n",
       "      <td>Restaurant ML</td>\n",
       "      <td>Restaurant</td>\n",
       "      <td>Kleine Houtstraat 70 BG</td>\n",
       "      <td>52.380780</td>\n",
       "      <td>4.638396</td>\n",
       "      <td>[{'label': 'display', 'lat': 52.38078, 'lng': ...</td>\n",
       "      <td>812</td>\n",
       "      <td>2011 DR</td>\n",
       "      <td>NL</td>\n",
       "      <td>Haarlem</td>\n",
       "      <td>Noord-Holland</td>\n",
       "      <td>Nederland</td>\n",
       "      <td>[Kleine Houtstraat 70 BG, 2011 DR Haarlem, Ned...</td>\n",
       "      <td>Centrum</td>\n",
       "      <td>NaN</td>\n",
       "      <td>4b76f1f8f964a5202f6d2ee3</td>\n",
       "    </tr>\n",
       "    <tr>\n",
       "      <th>3</th>\n",
       "      <td>Restaurant Parck</td>\n",
       "      <td>French Restaurant</td>\n",
       "      <td>Frederikspark 2</td>\n",
       "      <td>52.373977</td>\n",
       "      <td>4.630622</td>\n",
       "      <td>[{'label': 'display', 'lat': 52.37397731042772...</td>\n",
       "      <td>1660</td>\n",
       "      <td>2012 DA</td>\n",
       "      <td>NL</td>\n",
       "      <td>Haarlem</td>\n",
       "      <td>Noord-Holland</td>\n",
       "      <td>Nederland</td>\n",
       "      <td>[Frederikspark 2, 2012 DA Haarlem, Nederland]</td>\n",
       "      <td>NaN</td>\n",
       "      <td>NaN</td>\n",
       "      <td>4ed3a287e3007feb813e6d0a</td>\n",
       "    </tr>\n",
       "    <tr>\n",
       "      <th>4</th>\n",
       "      <td>Restaurant Delphi</td>\n",
       "      <td>Greek Restaurant</td>\n",
       "      <td>NaN</td>\n",
       "      <td>52.378146</td>\n",
       "      <td>4.636744</td>\n",
       "      <td>[{'label': 'display', 'lat': 52.37814617848480...</td>\n",
       "      <td>1112</td>\n",
       "      <td>NaN</td>\n",
       "      <td>NL</td>\n",
       "      <td>Haarlem</td>\n",
       "      <td>Noord-Holland</td>\n",
       "      <td>Nederland</td>\n",
       "      <td>[Haarlem, Nederland]</td>\n",
       "      <td>NaN</td>\n",
       "      <td>NaN</td>\n",
       "      <td>4d52c1d63062a1cd55d974a3</td>\n",
       "    </tr>\n",
       "  </tbody>\n",
       "</table>\n",
       "</div>"
      ],
      "text/plain": [
       "                             name         categories                  address  \\\n",
       "0  Café-Bar-Restaurant Beijneshal         Sports Bar        Stationsplein 134   \n",
       "1       Hotel-Restaurant Carillon         Restaurant           Grote Markt 27   \n",
       "2                   Restaurant ML         Restaurant  Kleine Houtstraat 70 BG   \n",
       "3                Restaurant Parck  French Restaurant          Frederikspark 2   \n",
       "4               Restaurant Delphi   Greek Restaurant                      NaN   \n",
       "\n",
       "         lat       lng                                     labeledLatLngs  \\\n",
       "0  52.387498  4.638173  [{'label': 'display', 'lat': 52.38749846617937...   \n",
       "1  52.381419  4.637040  [{'label': 'display', 'lat': 52.38141908009712...   \n",
       "2  52.380780  4.638396  [{'label': 'display', 'lat': 52.38078, 'lng': ...   \n",
       "3  52.373977  4.630622  [{'label': 'display', 'lat': 52.37397731042772...   \n",
       "4  52.378146  4.636744  [{'label': 'display', 'lat': 52.37814617848480...   \n",
       "\n",
       "   distance postalCode  cc     city          state    country  \\\n",
       "0        70    2011 LN  NL  Haarlem  Noord-Holland  Nederland   \n",
       "1       748    2011 RC  NL  Haarlem  Noord-Holland  Nederland   \n",
       "2       812    2011 DR  NL  Haarlem  Noord-Holland  Nederland   \n",
       "3      1660    2012 DA  NL  Haarlem  Noord-Holland  Nederland   \n",
       "4      1112        NaN  NL  Haarlem  Noord-Holland  Nederland   \n",
       "\n",
       "                                    formattedAddress neighborhood crossStreet  \\\n",
       "0    [Stationsplein 134, 2011 LN Haarlem, Nederland]          NaN         NaN   \n",
       "1       [Grote Markt 27, 2011 RC Haarlem, Nederland]          NaN         NaN   \n",
       "2  [Kleine Houtstraat 70 BG, 2011 DR Haarlem, Ned...      Centrum         NaN   \n",
       "3      [Frederikspark 2, 2012 DA Haarlem, Nederland]          NaN         NaN   \n",
       "4                               [Haarlem, Nederland]          NaN         NaN   \n",
       "\n",
       "                         id  \n",
       "0  4cd038907b6854810430c0f8  \n",
       "1  4b06d293f964a520e0f022e3  \n",
       "2  4b76f1f8f964a5202f6d2ee3  \n",
       "3  4ed3a287e3007feb813e6d0a  \n",
       "4  4d52c1d63062a1cd55d974a3  "
      ]
     },
     "execution_count": 42,
     "metadata": {},
     "output_type": "execute_result"
    }
   ],
   "source": [
    "# 4.3.3 Searching for restaurants within 2.5 km of Haarlem Station\n",
    "search = 'restaurant'\n",
    "radius = 2500\n",
    "url = 'https://api.foursquare.com/v2/venues/search?client_id={}&client_secret={}&ll={},{}&v={}&query={}&radius={}&limit={}'.format(ID, SECRET, HrlSt_lat, HrlSt_lon, version, search, radius, limit)\n",
    "HrlRest_result = requests.get(url).json()\n",
    "Haarlem_Restaurants = HrlRest_result['response']['venues']\n",
    "df_HrlRest01 = json_normalize(Haarlem_Restaurants)\n",
    "\n",
    "f_columns = ['name', 'categories'] + [col for col in df_HrlRest01.columns if col.startswith('location.')] + ['id']\n",
    "df_HrlRest02 = df_HrlRest01.loc[:, f_columns]\n",
    "\n",
    "def get_category_type(row):\n",
    "    try:\n",
    "        categories_list = row['categories']\n",
    "    except:\n",
    "        categories_list = row['venue.categories']\n",
    "        \n",
    "    if len(categories_list) == 0:\n",
    "        return None\n",
    "    else:\n",
    "        return categories_list[0]['name']\n",
    "\n",
    "df_HrlRest02['categories'] = df_HrlRest02.apply(get_category_type, axis=1)\n",
    "df_HrlRest02.columns = [column.split('.')[-1] for column in df_HrlRest02.columns]\n",
    "df_HrlRest02.head()"
   ]
  },
  {
   "cell_type": "code",
   "execution_count": 43,
   "metadata": {},
   "outputs": [
    {
     "name": "stdout",
     "output_type": "stream",
     "text": [
      "Number of nearby restaurants: 30\n"
     ]
    },
    {
     "data": {
      "text/plain": [
       "0           Café-Bar-Restaurant Beijneshal\n",
       "1                Hotel-Restaurant Carillon\n",
       "2                            Restaurant ML\n",
       "3                         Restaurant Parck\n",
       "4                        Restaurant Delphi\n",
       "5                     Ma Browns Restaurant\n",
       "6                     Restaurant Dubrovnik\n",
       "7                         Restaurant Ludic\n",
       "8       Chinees Restaurant de Gouden Lelie\n",
       "9                          IKEA Restaurant\n",
       "10                  Restaurant De Generaal\n",
       "11                 Restaurant de Wandelaar\n",
       "12                     Restaurant Applause\n",
       "13                    Restaurant Esperanto\n",
       "14                          Restaurant Ohm\n",
       "15         restaurant van der Valk Haarlem\n",
       "16                      Restaurant Babbels\n",
       "17                  Restaurant Het Pakhuis\n",
       "18                       Restaurant Scampi\n",
       "19                         Restaurant Noor\n",
       "20                      Restaurant Sin Yue\n",
       "21    Restaurant Kunstijsbaan Kennemerland\n",
       "22                       Restaurant Variee\n",
       "23                      Merdane Restaurant\n",
       "24                         Restaurant Fris\n",
       "25                      Restaurant Alkmaar\n",
       "26               Restaurant Jeune & Agneau\n",
       "27                         Restaurant Noor\n",
       "28                          Restaurant NAP\n",
       "29                 Restaurant Reinaldahuis\n",
       "Name: name, dtype: object"
      ]
     },
     "execution_count": 43,
     "metadata": {},
     "output_type": "execute_result"
    }
   ],
   "source": [
    "print(\"Number of nearby restaurants:\",df_HrlRest02.shape[0])\n",
    "df_HrlRest02.name"
   ]
  },
  {
   "cell_type": "code",
   "execution_count": 44,
   "metadata": {
    "collapsed": true,
    "jupyter": {
     "outputs_hidden": true
    }
   },
   "outputs": [
    {
     "data": {
      "text/html": [
       "<div style=\"width:100%;\"><div style=\"position:relative;width:100%;height:0;padding-bottom:60%;\"><iframe src=\"data:text/html;charset=utf-8;base64,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\" style=\"position:absolute;width:100%;height:100%;left:0;top:0;border:none !important;\" allowfullscreen webkitallowfullscreen mozallowfullscreen></iframe></div></div>"
      ],
      "text/plain": [
       "<folium.folium.Map at 0x7f1747f54a58>"
      ]
     },
     "execution_count": 44,
     "metadata": {},
     "output_type": "execute_result"
    }
   ],
   "source": [
    "# Visualization\n",
    "Haarlem04_map = Haarlem03_map\n",
    "Haarlem_Restaurant = folium.map.FeatureGroup()\n",
    "for lat, lng, lab in zip(df_HrlRest02.lat, df_HrlRest02.lng, df_HrlRest02.name):\n",
    "    label = folium.Popup(lab, parse_html=True)\n",
    "    Haarlem_Restaurant.add_child(folium.features.CircleMarker([lat, lng],radius=6, popup=label, color='blue', fill=True,fill_color='blue',fill_opacity=0.6))\n",
    "Haarlem04_map.add_child(Haarlem_Restaurant)\n",
    "Haarlem04_map"
   ]
  },
  {
   "cell_type": "markdown",
   "metadata": {},
   "source": [
    "### 4.5 Exploring the 19 neighborhoods of Haarlem ###\n",
    "Assigning book stores and restaurants in Haarlem to postal code areas (neighborhoods) by means of Foursquare"
   ]
  },
  {
   "cell_type": "code",
   "execution_count": 45,
   "metadata": {},
   "outputs": [
    {
     "data": {
      "text/html": [
       "<div>\n",
       "<style scoped>\n",
       "    .dataframe tbody tr th:only-of-type {\n",
       "        vertical-align: middle;\n",
       "    }\n",
       "\n",
       "    .dataframe tbody tr th {\n",
       "        vertical-align: top;\n",
       "    }\n",
       "\n",
       "    .dataframe thead th {\n",
       "        text-align: right;\n",
       "    }\n",
       "</style>\n",
       "<table border=\"1\" class=\"dataframe\">\n",
       "  <thead>\n",
       "    <tr style=\"text-align: right;\">\n",
       "      <th></th>\n",
       "      <th>Wijk</th>\n",
       "      <th>StraatNamen</th>\n",
       "      <th>Latitude_m</th>\n",
       "      <th>Longitude_m</th>\n",
       "    </tr>\n",
       "  </thead>\n",
       "  <tbody>\n",
       "    <tr>\n",
       "      <th>0</th>\n",
       "      <td>2011</td>\n",
       "      <td>Spaarnwouderstraat, Melkboersteeg, Sleutelstra...</td>\n",
       "      <td>52.381240</td>\n",
       "      <td>4.635808</td>\n",
       "    </tr>\n",
       "    <tr>\n",
       "      <th>1</th>\n",
       "      <td>2012</td>\n",
       "      <td>Zuider Buiten Spaarne, Zuider Buiten Spaarne, ...</td>\n",
       "      <td>52.370950</td>\n",
       "      <td>4.629562</td>\n",
       "    </tr>\n",
       "    <tr>\n",
       "      <th>2</th>\n",
       "      <td>2013</td>\n",
       "      <td>Duvenvoordestraat, Duvenvoordestraat, Duvenvoo...</td>\n",
       "      <td>52.382397</td>\n",
       "      <td>4.624165</td>\n",
       "    </tr>\n",
       "    <tr>\n",
       "      <th>3</th>\n",
       "      <td>2014</td>\n",
       "      <td>Willem Bontekoestraat, Houtvaartpad, Houtmanka...</td>\n",
       "      <td>52.373490</td>\n",
       "      <td>4.614884</td>\n",
       "    </tr>\n",
       "    <tr>\n",
       "      <th>4</th>\n",
       "      <td>2015</td>\n",
       "      <td>Tulpenkade, Krokusstraat, Krokusstraat, Krokus...</td>\n",
       "      <td>52.381513</td>\n",
       "      <td>4.609336</td>\n",
       "    </tr>\n",
       "  </tbody>\n",
       "</table>\n",
       "</div>"
      ],
      "text/plain": [
       "   Wijk                                        StraatNamen  Latitude_m  \\\n",
       "0  2011  Spaarnwouderstraat, Melkboersteeg, Sleutelstra...   52.381240   \n",
       "1  2012  Zuider Buiten Spaarne, Zuider Buiten Spaarne, ...   52.370950   \n",
       "2  2013  Duvenvoordestraat, Duvenvoordestraat, Duvenvoo...   52.382397   \n",
       "3  2014  Willem Bontekoestraat, Houtvaartpad, Houtmanka...   52.373490   \n",
       "4  2015  Tulpenkade, Krokusstraat, Krokusstraat, Krokus...   52.381513   \n",
       "\n",
       "   Longitude_m  \n",
       "0     4.635808  \n",
       "1     4.629562  \n",
       "2     4.624165  \n",
       "3     4.614884  \n",
       "4     4.609336  "
      ]
     },
     "execution_count": 45,
     "metadata": {},
     "output_type": "execute_result"
    }
   ],
   "source": [
    "# This is current Haarlem dataset with Neighborhoods (Wijk), street names (StraatNamen) and averaged latitudes & longitudes\n",
    "df_Haarlem05.head()"
   ]
  },
  {
   "cell_type": "markdown",
   "metadata": {},
   "source": [
    "**a) Searching the first neighborhood in Haarlem**"
   ]
  },
  {
   "cell_type": "markdown",
   "metadata": {},
   "source": [
    "a1) for book stores"
   ]
  },
  {
   "cell_type": "code",
   "execution_count": 46,
   "metadata": {},
   "outputs": [],
   "source": [
    "# Search for book stores within radius in first neighborhood 2011\n",
    "wijk_lat = df_Haarlem05.loc[0, 'Latitude_m']\n",
    "wijk_lon = df_Haarlem05.loc[0, 'Longitude_m']\n",
    "wijk_name = df_Haarlem05.loc[0, 'Wijk']\n",
    "version = '20191201'\n",
    "query = 'boek'\n",
    "radius = 1000 # based on maximum nearby neighborhood distance 1905 m\n",
    "limit = 30\n",
    "url = 'https://api.foursquare.com/v2/venues/search?client_id={}&client_secret={}&ll={},{}&v={}&query={}&radius={}&limit={}'.format(ID, SECRET, wijk_lat, wijk_lon, version, query, radius, limit)\n",
    "wijkbook_result = requests.get(url).json()\n",
    "Wijk_Books = wijkbook_result['response']['venues']"
   ]
  },
  {
   "cell_type": "code",
   "execution_count": 47,
   "metadata": {},
   "outputs": [],
   "source": [
    "df_Wijkbook = json_normalize(Wijk_Books)"
   ]
  },
  {
   "cell_type": "code",
   "execution_count": 48,
   "metadata": {
    "collapsed": true,
    "jupyter": {
     "outputs_hidden": true
    }
   },
   "outputs": [
    {
     "data": {
      "text/html": [
       "<div>\n",
       "<style scoped>\n",
       "    .dataframe tbody tr th:only-of-type {\n",
       "        vertical-align: middle;\n",
       "    }\n",
       "\n",
       "    .dataframe tbody tr th {\n",
       "        vertical-align: top;\n",
       "    }\n",
       "\n",
       "    .dataframe thead th {\n",
       "        text-align: right;\n",
       "    }\n",
       "</style>\n",
       "<table border=\"1\" class=\"dataframe\">\n",
       "  <thead>\n",
       "    <tr style=\"text-align: right;\">\n",
       "      <th></th>\n",
       "      <th>id</th>\n",
       "      <th>name</th>\n",
       "      <th>address</th>\n",
       "      <th>lat</th>\n",
       "      <th>lng</th>\n",
       "      <th>distance</th>\n",
       "    </tr>\n",
       "  </thead>\n",
       "  <tbody>\n",
       "    <tr>\n",
       "      <th>0</th>\n",
       "      <td>4c04d2630d0e0f47cd6a049a</td>\n",
       "      <td>Plantage boekhandel</td>\n",
       "      <td>Barteljorisstraat</td>\n",
       "      <td>52.381835</td>\n",
       "      <td>4.635317</td>\n",
       "      <td>74</td>\n",
       "    </tr>\n",
       "    <tr>\n",
       "      <th>1</th>\n",
       "      <td>4b925f13f964a52013f533e3</td>\n",
       "      <td>H. de Vries Boeken</td>\n",
       "      <td>Gedempte Oude Gracht 27</td>\n",
       "      <td>52.381420</td>\n",
       "      <td>4.632426</td>\n",
       "      <td>230</td>\n",
       "    </tr>\n",
       "    <tr>\n",
       "      <th>2</th>\n",
       "      <td>4c419a4daf052d7f61907d79</td>\n",
       "      <td>Athenaeum Boekhandel</td>\n",
       "      <td>Gedempte Oude Gracht 70</td>\n",
       "      <td>52.380104</td>\n",
       "      <td>4.632651</td>\n",
       "      <td>249</td>\n",
       "    </tr>\n",
       "    <tr>\n",
       "      <th>3</th>\n",
       "      <td>4cf3a02f7e0da1cd82b69d97</td>\n",
       "      <td>Boekenvoordeel</td>\n",
       "      <td>Grote Houtstraat 108</td>\n",
       "      <td>52.378020</td>\n",
       "      <td>4.632227</td>\n",
       "      <td>433</td>\n",
       "    </tr>\n",
       "    <tr>\n",
       "      <th>4</th>\n",
       "      <td>4dfb4092e4cd5679360841c7</td>\n",
       "      <td>Boekenhoek</td>\n",
       "      <td>NaN</td>\n",
       "      <td>52.375111</td>\n",
       "      <td>4.644473</td>\n",
       "      <td>901</td>\n",
       "    </tr>\n",
       "  </tbody>\n",
       "</table>\n",
       "</div>"
      ],
      "text/plain": [
       "                         id                  name                  address  \\\n",
       "0  4c04d2630d0e0f47cd6a049a   Plantage boekhandel        Barteljorisstraat   \n",
       "1  4b925f13f964a52013f533e3    H. de Vries Boeken  Gedempte Oude Gracht 27   \n",
       "2  4c419a4daf052d7f61907d79  Athenaeum Boekhandel  Gedempte Oude Gracht 70   \n",
       "3  4cf3a02f7e0da1cd82b69d97        Boekenvoordeel     Grote Houtstraat 108   \n",
       "4  4dfb4092e4cd5679360841c7            Boekenhoek                      NaN   \n",
       "\n",
       "         lat       lng  distance  \n",
       "0  52.381835  4.635317        74  \n",
       "1  52.381420  4.632426       230  \n",
       "2  52.380104  4.632651       249  \n",
       "3  52.378020  4.632227       433  \n",
       "4  52.375111  4.644473       901  "
      ]
     },
     "execution_count": 48,
     "metadata": {},
     "output_type": "execute_result"
    }
   ],
   "source": [
    "f_columns = ['id','name', 'location.address', 'location.lat', 'location.lng', 'location.distance']\n",
    "df_Wijkbook2011 = df_Wijkbook.loc[:, f_columns]\n",
    "df_Wijkbook2011.columns = [col.split(\".\")[-1] for col in df_Wijkbook2011.columns]\n",
    "df_Wijkbook2011.head()"
   ]
  },
  {
   "cell_type": "code",
   "execution_count": 49,
   "metadata": {},
   "outputs": [
    {
     "name": "stdout",
     "output_type": "stream",
     "text": [
      "# book stores in neighborhood 2011 within radius 1000 m: 5\n"
     ]
    }
   ],
   "source": [
    "print('# book stores in neighborhood {} within radius {} m:'.format(wijk_name,radius),df_Wijkbook2011.shape[0])"
   ]
  },
  {
   "cell_type": "markdown",
   "metadata": {},
   "source": [
    "a2) for restaurants, the exercise is not repeated (see b2)"
   ]
  },
  {
   "cell_type": "markdown",
   "metadata": {},
   "source": [
    "**b) Searching all neighborhoods in Haarlem**"
   ]
  },
  {
   "cell_type": "markdown",
   "metadata": {},
   "source": [
    "b1) for book stores"
   ]
  },
  {
   "cell_type": "code",
   "execution_count": 50,
   "metadata": {},
   "outputs": [
    {
     "name": "stdout",
     "output_type": "stream",
     "text": [
      "[5, 2, 5, 2, 0, 5, 1, 1, 1, 1, 1, 1, 0, 1, 1, 1, 1, 1, 1]\n"
     ]
    }
   ],
   "source": [
    "version = '20191201'\n",
    "query = 'boek'\n",
    "radius = 1000 # based on maximum nearby neighborhood distance 1905 m\n",
    "limit = 30\n",
    "wijk_nrbooks = []\n",
    "for x in range(19):\n",
    "    wijk_lat = df_Haarlem05.loc[x, 'Latitude_m']\n",
    "    wijk_lon = df_Haarlem05.loc[x, 'Longitude_m']\n",
    "    wijk_name = df_Haarlem05.loc[x, 'Wijk']\n",
    "    url = 'https://api.foursquare.com/v2/venues/search?client_id={}&client_secret={}&ll={},{}&v={}&query={}&radius={}&limit={}'.format(ID, SECRET, wijk_lat, wijk_lon, version, query, radius, limit)\n",
    "    wijkbook_result = requests.get(url).json()\n",
    "    Wijk_Books = wijkbook_result['response']['venues']\n",
    "    df_Wijkbook = json_normalize(Wijk_Books)\n",
    "    wijk_nrbooks.append(df_Wijkbook.shape[0])\n",
    "#    print('# book stores in neighborhood {}:'.format(wijk_name),df_Wijkbook.shape[0])\n",
    "print(wijk_nrbooks)"
   ]
  },
  {
   "cell_type": "markdown",
   "metadata": {},
   "source": [
    "b2) for restaurants"
   ]
  },
  {
   "cell_type": "code",
   "execution_count": 51,
   "metadata": {},
   "outputs": [
    {
     "name": "stdout",
     "output_type": "stream",
     "text": [
      "[30, 27, 30, 7, 10, 30, 8, 4, 4, 4, 3, 1, 1, 30, 7, 8, 5, 5, 3]\n"
     ]
    }
   ],
   "source": [
    "version = '20191201'\n",
    "query = 'restaurant'\n",
    "radius = 1000 # based on maximum nearby neighborhood distance 1905 m\n",
    "limit = 30\n",
    "wijk_nrrest = []\n",
    "for x in range(19):\n",
    "    wijk_lat = df_Haarlem05.loc[x, 'Latitude_m']\n",
    "    wijk_lon = df_Haarlem05.loc[x, 'Longitude_m']\n",
    "    wijk_name = df_Haarlem05.loc[x, 'Wijk']\n",
    "    url = 'https://api.foursquare.com/v2/venues/search?client_id={}&client_secret={}&ll={},{}&v={}&query={}&radius={}&limit={}'.format(ID, SECRET, wijk_lat, wijk_lon, version, query, radius, limit)\n",
    "    wijkrest_result = requests.get(url).json()\n",
    "    Wijk_Rest = wijkrest_result['response']['venues']\n",
    "    df_WijkRest = json_normalize(Wijk_Rest)\n",
    "    wijk_nrrest.append(df_WijkRest.shape[0])\n",
    "print(wijk_nrrest)"
   ]
  },
  {
   "cell_type": "code",
   "execution_count": 52,
   "metadata": {},
   "outputs": [],
   "source": [
    "# create a new dataframe HrlCluster with numbers and relative frequencies of book shops & restaurants\n",
    "df_HrlCluster=df_Haarlem05\n",
    "df_HrlCluster['NrBook'] = wijk_nrbooks\n",
    "book_totnr = df_HrlCluster['NrBook'].sum()\n",
    "df_HrlCluster['RFBook'] = df_HrlCluster['NrBook']/book_totnr\n",
    "df_HrlCluster['NrRest'] = wijk_nrrest\n",
    "rest_totnr = df_HrlCluster['NrRest'].sum()\n",
    "df_HrlCluster['RFRest'] = df_HrlCluster['NrRest']/rest_totnr"
   ]
  },
  {
   "cell_type": "code",
   "execution_count": 53,
   "metadata": {},
   "outputs": [
    {
     "data": {
      "text/html": [
       "<div>\n",
       "<style scoped>\n",
       "    .dataframe tbody tr th:only-of-type {\n",
       "        vertical-align: middle;\n",
       "    }\n",
       "\n",
       "    .dataframe tbody tr th {\n",
       "        vertical-align: top;\n",
       "    }\n",
       "\n",
       "    .dataframe thead th {\n",
       "        text-align: right;\n",
       "    }\n",
       "</style>\n",
       "<table border=\"1\" class=\"dataframe\">\n",
       "  <thead>\n",
       "    <tr style=\"text-align: right;\">\n",
       "      <th></th>\n",
       "      <th>Wijk</th>\n",
       "      <th>StraatNamen</th>\n",
       "      <th>Latitude_m</th>\n",
       "      <th>Longitude_m</th>\n",
       "      <th>NrBook</th>\n",
       "      <th>RFBook</th>\n",
       "      <th>NrRest</th>\n",
       "      <th>RFRest</th>\n",
       "    </tr>\n",
       "  </thead>\n",
       "  <tbody>\n",
       "    <tr>\n",
       "      <th>0</th>\n",
       "      <td>2011</td>\n",
       "      <td>Spaarnwouderstraat, Melkboersteeg, Sleutelstra...</td>\n",
       "      <td>52.381240</td>\n",
       "      <td>4.635808</td>\n",
       "      <td>5</td>\n",
       "      <td>0.161290</td>\n",
       "      <td>30</td>\n",
       "      <td>0.138249</td>\n",
       "    </tr>\n",
       "    <tr>\n",
       "      <th>1</th>\n",
       "      <td>2012</td>\n",
       "      <td>Zuider Buiten Spaarne, Zuider Buiten Spaarne, ...</td>\n",
       "      <td>52.370950</td>\n",
       "      <td>4.629562</td>\n",
       "      <td>2</td>\n",
       "      <td>0.064516</td>\n",
       "      <td>27</td>\n",
       "      <td>0.124424</td>\n",
       "    </tr>\n",
       "    <tr>\n",
       "      <th>2</th>\n",
       "      <td>2013</td>\n",
       "      <td>Duvenvoordestraat, Duvenvoordestraat, Duvenvoo...</td>\n",
       "      <td>52.382397</td>\n",
       "      <td>4.624165</td>\n",
       "      <td>5</td>\n",
       "      <td>0.161290</td>\n",
       "      <td>30</td>\n",
       "      <td>0.138249</td>\n",
       "    </tr>\n",
       "    <tr>\n",
       "      <th>3</th>\n",
       "      <td>2014</td>\n",
       "      <td>Willem Bontekoestraat, Houtvaartpad, Houtmanka...</td>\n",
       "      <td>52.373490</td>\n",
       "      <td>4.614884</td>\n",
       "      <td>2</td>\n",
       "      <td>0.064516</td>\n",
       "      <td>7</td>\n",
       "      <td>0.032258</td>\n",
       "    </tr>\n",
       "    <tr>\n",
       "      <th>4</th>\n",
       "      <td>2015</td>\n",
       "      <td>Tulpenkade, Krokusstraat, Krokusstraat, Krokus...</td>\n",
       "      <td>52.381513</td>\n",
       "      <td>4.609336</td>\n",
       "      <td>0</td>\n",
       "      <td>0.000000</td>\n",
       "      <td>10</td>\n",
       "      <td>0.046083</td>\n",
       "    </tr>\n",
       "  </tbody>\n",
       "</table>\n",
       "</div>"
      ],
      "text/plain": [
       "   Wijk                                        StraatNamen  Latitude_m  \\\n",
       "0  2011  Spaarnwouderstraat, Melkboersteeg, Sleutelstra...   52.381240   \n",
       "1  2012  Zuider Buiten Spaarne, Zuider Buiten Spaarne, ...   52.370950   \n",
       "2  2013  Duvenvoordestraat, Duvenvoordestraat, Duvenvoo...   52.382397   \n",
       "3  2014  Willem Bontekoestraat, Houtvaartpad, Houtmanka...   52.373490   \n",
       "4  2015  Tulpenkade, Krokusstraat, Krokusstraat, Krokus...   52.381513   \n",
       "\n",
       "   Longitude_m  NrBook    RFBook  NrRest    RFRest  \n",
       "0     4.635808       5  0.161290      30  0.138249  \n",
       "1     4.629562       2  0.064516      27  0.124424  \n",
       "2     4.624165       5  0.161290      30  0.138249  \n",
       "3     4.614884       2  0.064516       7  0.032258  \n",
       "4     4.609336       0  0.000000      10  0.046083  "
      ]
     },
     "execution_count": 53,
     "metadata": {},
     "output_type": "execute_result"
    }
   ],
   "source": [
    "df_HrlCluster.head()"
   ]
  },
  {
   "cell_type": "markdown",
   "metadata": {},
   "source": [
    "### 4.6 Clustering the 19 neighborhoods of Haarlem ###\n",
    "Cluster postal code areas (neighborhoods) to create centers with high book store and restaurant concentrations. \\\n",
    "Those clusters with corresponding addresses and (relative) number of book stores and restaurants are the final result of this analysis."
   ]
  },
  {
   "cell_type": "code",
   "execution_count": 54,
   "metadata": {},
   "outputs": [],
   "source": [
    "# Clustering analysis should be performed on the relative frequencies of book stores and restaurants only\n",
    "df_HrlClusterAnal = df_HrlCluster.drop(['Wijk','StraatNamen','Latitude_m','Longitude_m','NrBook','NrRest'],axis=1)"
   ]
  },
  {
   "cell_type": "code",
   "execution_count": 55,
   "metadata": {},
   "outputs": [
    {
     "data": {
      "text/html": [
       "<div>\n",
       "<style scoped>\n",
       "    .dataframe tbody tr th:only-of-type {\n",
       "        vertical-align: middle;\n",
       "    }\n",
       "\n",
       "    .dataframe tbody tr th {\n",
       "        vertical-align: top;\n",
       "    }\n",
       "\n",
       "    .dataframe thead th {\n",
       "        text-align: right;\n",
       "    }\n",
       "</style>\n",
       "<table border=\"1\" class=\"dataframe\">\n",
       "  <thead>\n",
       "    <tr style=\"text-align: right;\">\n",
       "      <th></th>\n",
       "      <th>RFBook</th>\n",
       "      <th>RFRest</th>\n",
       "    </tr>\n",
       "  </thead>\n",
       "  <tbody>\n",
       "    <tr>\n",
       "      <th>0</th>\n",
       "      <td>0.161290</td>\n",
       "      <td>0.138249</td>\n",
       "    </tr>\n",
       "    <tr>\n",
       "      <th>1</th>\n",
       "      <td>0.064516</td>\n",
       "      <td>0.124424</td>\n",
       "    </tr>\n",
       "    <tr>\n",
       "      <th>2</th>\n",
       "      <td>0.161290</td>\n",
       "      <td>0.138249</td>\n",
       "    </tr>\n",
       "    <tr>\n",
       "      <th>3</th>\n",
       "      <td>0.064516</td>\n",
       "      <td>0.032258</td>\n",
       "    </tr>\n",
       "    <tr>\n",
       "      <th>4</th>\n",
       "      <td>0.000000</td>\n",
       "      <td>0.046083</td>\n",
       "    </tr>\n",
       "  </tbody>\n",
       "</table>\n",
       "</div>"
      ],
      "text/plain": [
       "     RFBook    RFRest\n",
       "0  0.161290  0.138249\n",
       "1  0.064516  0.124424\n",
       "2  0.161290  0.138249\n",
       "3  0.064516  0.032258\n",
       "4  0.000000  0.046083"
      ]
     },
     "execution_count": 55,
     "metadata": {},
     "output_type": "execute_result"
    }
   ],
   "source": [
    "df_HrlClusterAnal.head()"
   ]
  },
  {
   "cell_type": "code",
   "execution_count": 56,
   "metadata": {},
   "outputs": [
    {
     "data": {
      "text/plain": [
       "array([2, 0, 2, 1, 4, 2, 1, 3, 3, 3, 3, 3, 3, 0, 1, 1, 3, 3, 3],\n",
       "      dtype=int32)"
      ]
     },
     "execution_count": 56,
     "metadata": {},
     "output_type": "execute_result"
    }
   ],
   "source": [
    "# K-Means clustering\n",
    "k = 5 # nr of clusters\n",
    "kmeans = KMeans(n_clusters=k, random_state=0).fit(df_HrlClusterAnal)\n",
    "kmeans.labels_[0:19]  # cluster labels for each record"
   ]
  },
  {
   "cell_type": "code",
   "execution_count": 57,
   "metadata": {},
   "outputs": [],
   "source": [
    "df_HrlCluster.insert(0, 'Cluster', kmeans.labels_)"
   ]
  },
  {
   "cell_type": "code",
   "execution_count": 58,
   "metadata": {},
   "outputs": [
    {
     "data": {
      "text/html": [
       "<div>\n",
       "<style scoped>\n",
       "    .dataframe tbody tr th:only-of-type {\n",
       "        vertical-align: middle;\n",
       "    }\n",
       "\n",
       "    .dataframe tbody tr th {\n",
       "        vertical-align: top;\n",
       "    }\n",
       "\n",
       "    .dataframe thead th {\n",
       "        text-align: right;\n",
       "    }\n",
       "</style>\n",
       "<table border=\"1\" class=\"dataframe\">\n",
       "  <thead>\n",
       "    <tr style=\"text-align: right;\">\n",
       "      <th></th>\n",
       "      <th>Cluster</th>\n",
       "      <th>Wijk</th>\n",
       "      <th>StraatNamen</th>\n",
       "      <th>Latitude_m</th>\n",
       "      <th>Longitude_m</th>\n",
       "      <th>NrBook</th>\n",
       "      <th>RFBook</th>\n",
       "      <th>NrRest</th>\n",
       "      <th>RFRest</th>\n",
       "    </tr>\n",
       "  </thead>\n",
       "  <tbody>\n",
       "    <tr>\n",
       "      <th>0</th>\n",
       "      <td>2</td>\n",
       "      <td>2011</td>\n",
       "      <td>Spaarnwouderstraat, Melkboersteeg, Sleutelstra...</td>\n",
       "      <td>52.381240</td>\n",
       "      <td>4.635808</td>\n",
       "      <td>5</td>\n",
       "      <td>0.161290</td>\n",
       "      <td>30</td>\n",
       "      <td>0.138249</td>\n",
       "    </tr>\n",
       "    <tr>\n",
       "      <th>1</th>\n",
       "      <td>0</td>\n",
       "      <td>2012</td>\n",
       "      <td>Zuider Buiten Spaarne, Zuider Buiten Spaarne, ...</td>\n",
       "      <td>52.370950</td>\n",
       "      <td>4.629562</td>\n",
       "      <td>2</td>\n",
       "      <td>0.064516</td>\n",
       "      <td>27</td>\n",
       "      <td>0.124424</td>\n",
       "    </tr>\n",
       "    <tr>\n",
       "      <th>2</th>\n",
       "      <td>2</td>\n",
       "      <td>2013</td>\n",
       "      <td>Duvenvoordestraat, Duvenvoordestraat, Duvenvoo...</td>\n",
       "      <td>52.382397</td>\n",
       "      <td>4.624165</td>\n",
       "      <td>5</td>\n",
       "      <td>0.161290</td>\n",
       "      <td>30</td>\n",
       "      <td>0.138249</td>\n",
       "    </tr>\n",
       "    <tr>\n",
       "      <th>3</th>\n",
       "      <td>1</td>\n",
       "      <td>2014</td>\n",
       "      <td>Willem Bontekoestraat, Houtvaartpad, Houtmanka...</td>\n",
       "      <td>52.373490</td>\n",
       "      <td>4.614884</td>\n",
       "      <td>2</td>\n",
       "      <td>0.064516</td>\n",
       "      <td>7</td>\n",
       "      <td>0.032258</td>\n",
       "    </tr>\n",
       "    <tr>\n",
       "      <th>4</th>\n",
       "      <td>4</td>\n",
       "      <td>2015</td>\n",
       "      <td>Tulpenkade, Krokusstraat, Krokusstraat, Krokus...</td>\n",
       "      <td>52.381513</td>\n",
       "      <td>4.609336</td>\n",
       "      <td>0</td>\n",
       "      <td>0.000000</td>\n",
       "      <td>10</td>\n",
       "      <td>0.046083</td>\n",
       "    </tr>\n",
       "  </tbody>\n",
       "</table>\n",
       "</div>"
      ],
      "text/plain": [
       "   Cluster  Wijk                                        StraatNamen  \\\n",
       "0        2  2011  Spaarnwouderstraat, Melkboersteeg, Sleutelstra...   \n",
       "1        0  2012  Zuider Buiten Spaarne, Zuider Buiten Spaarne, ...   \n",
       "2        2  2013  Duvenvoordestraat, Duvenvoordestraat, Duvenvoo...   \n",
       "3        1  2014  Willem Bontekoestraat, Houtvaartpad, Houtmanka...   \n",
       "4        4  2015  Tulpenkade, Krokusstraat, Krokusstraat, Krokus...   \n",
       "\n",
       "   Latitude_m  Longitude_m  NrBook    RFBook  NrRest    RFRest  \n",
       "0   52.381240     4.635808       5  0.161290      30  0.138249  \n",
       "1   52.370950     4.629562       2  0.064516      27  0.124424  \n",
       "2   52.382397     4.624165       5  0.161290      30  0.138249  \n",
       "3   52.373490     4.614884       2  0.064516       7  0.032258  \n",
       "4   52.381513     4.609336       0  0.000000      10  0.046083  "
      ]
     },
     "execution_count": 58,
     "metadata": {},
     "output_type": "execute_result"
    }
   ],
   "source": [
    "df_HrlCluster.head()"
   ]
  },
  {
   "cell_type": "markdown",
   "metadata": {},
   "source": [
    "### 4.7 Examine clusters ###"
   ]
  },
  {
   "cell_type": "markdown",
   "metadata": {},
   "source": [
    "#### Cluster 1"
   ]
  },
  {
   "cell_type": "code",
   "execution_count": 59,
   "metadata": {},
   "outputs": [
    {
     "name": "stdout",
     "output_type": "stream",
     "text": [
      "Cluster nr 1\n"
     ]
    },
    {
     "data": {
      "text/html": [
       "<div>\n",
       "<style scoped>\n",
       "    .dataframe tbody tr th:only-of-type {\n",
       "        vertical-align: middle;\n",
       "    }\n",
       "\n",
       "    .dataframe tbody tr th {\n",
       "        vertical-align: top;\n",
       "    }\n",
       "\n",
       "    .dataframe thead th {\n",
       "        text-align: right;\n",
       "    }\n",
       "</style>\n",
       "<table border=\"1\" class=\"dataframe\">\n",
       "  <thead>\n",
       "    <tr style=\"text-align: right;\">\n",
       "      <th></th>\n",
       "      <th>Wijk</th>\n",
       "      <th>NrBook</th>\n",
       "      <th>NrRest</th>\n",
       "      <th>RFBook</th>\n",
       "      <th>RFRest</th>\n",
       "    </tr>\n",
       "  </thead>\n",
       "  <tbody>\n",
       "    <tr>\n",
       "      <th>1</th>\n",
       "      <td>2012</td>\n",
       "      <td>2</td>\n",
       "      <td>27</td>\n",
       "      <td>0.064516</td>\n",
       "      <td>0.124424</td>\n",
       "    </tr>\n",
       "    <tr>\n",
       "      <th>13</th>\n",
       "      <td>2032</td>\n",
       "      <td>1</td>\n",
       "      <td>30</td>\n",
       "      <td>0.032258</td>\n",
       "      <td>0.138249</td>\n",
       "    </tr>\n",
       "  </tbody>\n",
       "</table>\n",
       "</div>"
      ],
      "text/plain": [
       "    Wijk  NrBook  NrRest    RFBook    RFRest\n",
       "1   2012       2      27  0.064516  0.124424\n",
       "13  2032       1      30  0.032258  0.138249"
      ]
     },
     "execution_count": 59,
     "metadata": {},
     "output_type": "execute_result"
    }
   ],
   "source": [
    "print('Cluster nr 1')\n",
    "df_HrlCluster.loc[df_HrlCluster['Cluster'] == 0, df_HrlCluster.columns[[1,5,7,6,8]]]"
   ]
  },
  {
   "cell_type": "markdown",
   "metadata": {},
   "source": [
    "Cluster 1 (indicated in red on map) comprises 2 neighborhoods, with eccentric location. The number of book stores is relatively low, however lots of restaurants are present within 1000 m."
   ]
  },
  {
   "cell_type": "markdown",
   "metadata": {},
   "source": [
    "#### Cluster 2"
   ]
  },
  {
   "cell_type": "code",
   "execution_count": 60,
   "metadata": {},
   "outputs": [
    {
     "name": "stdout",
     "output_type": "stream",
     "text": [
      "Cluster nr 2\n"
     ]
    },
    {
     "data": {
      "text/html": [
       "<div>\n",
       "<style scoped>\n",
       "    .dataframe tbody tr th:only-of-type {\n",
       "        vertical-align: middle;\n",
       "    }\n",
       "\n",
       "    .dataframe tbody tr th {\n",
       "        vertical-align: top;\n",
       "    }\n",
       "\n",
       "    .dataframe thead th {\n",
       "        text-align: right;\n",
       "    }\n",
       "</style>\n",
       "<table border=\"1\" class=\"dataframe\">\n",
       "  <thead>\n",
       "    <tr style=\"text-align: right;\">\n",
       "      <th></th>\n",
       "      <th>Wijk</th>\n",
       "      <th>NrBook</th>\n",
       "      <th>NrRest</th>\n",
       "      <th>RFBook</th>\n",
       "      <th>RFRest</th>\n",
       "    </tr>\n",
       "  </thead>\n",
       "  <tbody>\n",
       "    <tr>\n",
       "      <th>3</th>\n",
       "      <td>2014</td>\n",
       "      <td>2</td>\n",
       "      <td>7</td>\n",
       "      <td>0.064516</td>\n",
       "      <td>0.032258</td>\n",
       "    </tr>\n",
       "    <tr>\n",
       "      <th>6</th>\n",
       "      <td>2021</td>\n",
       "      <td>1</td>\n",
       "      <td>8</td>\n",
       "      <td>0.032258</td>\n",
       "      <td>0.036866</td>\n",
       "    </tr>\n",
       "    <tr>\n",
       "      <th>14</th>\n",
       "      <td>2033</td>\n",
       "      <td>1</td>\n",
       "      <td>7</td>\n",
       "      <td>0.032258</td>\n",
       "      <td>0.032258</td>\n",
       "    </tr>\n",
       "    <tr>\n",
       "      <th>15</th>\n",
       "      <td>2034</td>\n",
       "      <td>1</td>\n",
       "      <td>8</td>\n",
       "      <td>0.032258</td>\n",
       "      <td>0.036866</td>\n",
       "    </tr>\n",
       "  </tbody>\n",
       "</table>\n",
       "</div>"
      ],
      "text/plain": [
       "    Wijk  NrBook  NrRest    RFBook    RFRest\n",
       "3   2014       2       7  0.064516  0.032258\n",
       "6   2021       1       8  0.032258  0.036866\n",
       "14  2033       1       7  0.032258  0.032258\n",
       "15  2034       1       8  0.032258  0.036866"
      ]
     },
     "execution_count": 60,
     "metadata": {},
     "output_type": "execute_result"
    }
   ],
   "source": [
    "print('Cluster nr 2')\n",
    "df_HrlCluster.loc[df_HrlCluster['Cluster'] == 1, df_HrlCluster.columns[[1,5,7,6,8]]]"
   ]
  },
  {
   "cell_type": "markdown",
   "metadata": {},
   "source": [
    "Cluster 2 (purple) comprises 4 neighborhoods, widely separated from each other. The number of book stores as well as restaurants is reltively low."
   ]
  },
  {
   "cell_type": "markdown",
   "metadata": {},
   "source": [
    "#### Cluster 3"
   ]
  },
  {
   "cell_type": "code",
   "execution_count": 61,
   "metadata": {},
   "outputs": [
    {
     "name": "stdout",
     "output_type": "stream",
     "text": [
      "Cluster nr 3\n"
     ]
    },
    {
     "data": {
      "text/html": [
       "<div>\n",
       "<style scoped>\n",
       "    .dataframe tbody tr th:only-of-type {\n",
       "        vertical-align: middle;\n",
       "    }\n",
       "\n",
       "    .dataframe tbody tr th {\n",
       "        vertical-align: top;\n",
       "    }\n",
       "\n",
       "    .dataframe thead th {\n",
       "        text-align: right;\n",
       "    }\n",
       "</style>\n",
       "<table border=\"1\" class=\"dataframe\">\n",
       "  <thead>\n",
       "    <tr style=\"text-align: right;\">\n",
       "      <th></th>\n",
       "      <th>Wijk</th>\n",
       "      <th>NrBook</th>\n",
       "      <th>NrRest</th>\n",
       "      <th>RFBook</th>\n",
       "      <th>RFRest</th>\n",
       "    </tr>\n",
       "  </thead>\n",
       "  <tbody>\n",
       "    <tr>\n",
       "      <th>0</th>\n",
       "      <td>2011</td>\n",
       "      <td>5</td>\n",
       "      <td>30</td>\n",
       "      <td>0.16129</td>\n",
       "      <td>0.138249</td>\n",
       "    </tr>\n",
       "    <tr>\n",
       "      <th>2</th>\n",
       "      <td>2013</td>\n",
       "      <td>5</td>\n",
       "      <td>30</td>\n",
       "      <td>0.16129</td>\n",
       "      <td>0.138249</td>\n",
       "    </tr>\n",
       "    <tr>\n",
       "      <th>5</th>\n",
       "      <td>2019</td>\n",
       "      <td>5</td>\n",
       "      <td>30</td>\n",
       "      <td>0.16129</td>\n",
       "      <td>0.138249</td>\n",
       "    </tr>\n",
       "  </tbody>\n",
       "</table>\n",
       "</div>"
      ],
      "text/plain": [
       "   Wijk  NrBook  NrRest   RFBook    RFRest\n",
       "0  2011       5      30  0.16129  0.138249\n",
       "2  2013       5      30  0.16129  0.138249\n",
       "5  2019       5      30  0.16129  0.138249"
      ]
     },
     "execution_count": 61,
     "metadata": {},
     "output_type": "execute_result"
    }
   ],
   "source": [
    "print('Cluster nr 3')\n",
    "df_HrlCluster.loc[df_HrlCluster['Cluster'] == 2, df_HrlCluster.columns[[1,5,7,6,8]]]"
   ]
  },
  {
   "cell_type": "code",
   "execution_count": null,
   "metadata": {},
   "outputs": [],
   "source": []
  },
  {
   "cell_type": "markdown",
   "metadata": {},
   "source": [
    "Cluster 3 (blue) comprises 3 nearby neighborhoods, located in the center of Haarlem. The number of book stores and restaurants is high. \\\n",
    "This cluster seems promising."
   ]
  },
  {
   "cell_type": "markdown",
   "metadata": {},
   "source": [
    "#### Cluster 4"
   ]
  },
  {
   "cell_type": "code",
   "execution_count": 62,
   "metadata": {},
   "outputs": [
    {
     "name": "stdout",
     "output_type": "stream",
     "text": [
      "Cluster nr 4\n"
     ]
    },
    {
     "data": {
      "text/html": [
       "<div>\n",
       "<style scoped>\n",
       "    .dataframe tbody tr th:only-of-type {\n",
       "        vertical-align: middle;\n",
       "    }\n",
       "\n",
       "    .dataframe tbody tr th {\n",
       "        vertical-align: top;\n",
       "    }\n",
       "\n",
       "    .dataframe thead th {\n",
       "        text-align: right;\n",
       "    }\n",
       "</style>\n",
       "<table border=\"1\" class=\"dataframe\">\n",
       "  <thead>\n",
       "    <tr style=\"text-align: right;\">\n",
       "      <th></th>\n",
       "      <th>Wijk</th>\n",
       "      <th>NrBook</th>\n",
       "      <th>NrRest</th>\n",
       "      <th>RFBook</th>\n",
       "      <th>RFRest</th>\n",
       "    </tr>\n",
       "  </thead>\n",
       "  <tbody>\n",
       "    <tr>\n",
       "      <th>7</th>\n",
       "      <td>2022</td>\n",
       "      <td>1</td>\n",
       "      <td>4</td>\n",
       "      <td>0.032258</td>\n",
       "      <td>0.018433</td>\n",
       "    </tr>\n",
       "    <tr>\n",
       "      <th>8</th>\n",
       "      <td>2023</td>\n",
       "      <td>1</td>\n",
       "      <td>4</td>\n",
       "      <td>0.032258</td>\n",
       "      <td>0.018433</td>\n",
       "    </tr>\n",
       "    <tr>\n",
       "      <th>9</th>\n",
       "      <td>2024</td>\n",
       "      <td>1</td>\n",
       "      <td>4</td>\n",
       "      <td>0.032258</td>\n",
       "      <td>0.018433</td>\n",
       "    </tr>\n",
       "    <tr>\n",
       "      <th>10</th>\n",
       "      <td>2025</td>\n",
       "      <td>1</td>\n",
       "      <td>3</td>\n",
       "      <td>0.032258</td>\n",
       "      <td>0.013825</td>\n",
       "    </tr>\n",
       "    <tr>\n",
       "      <th>11</th>\n",
       "      <td>2026</td>\n",
       "      <td>1</td>\n",
       "      <td>1</td>\n",
       "      <td>0.032258</td>\n",
       "      <td>0.004608</td>\n",
       "    </tr>\n",
       "    <tr>\n",
       "      <th>12</th>\n",
       "      <td>2031</td>\n",
       "      <td>0</td>\n",
       "      <td>1</td>\n",
       "      <td>0.000000</td>\n",
       "      <td>0.004608</td>\n",
       "    </tr>\n",
       "    <tr>\n",
       "      <th>16</th>\n",
       "      <td>2035</td>\n",
       "      <td>1</td>\n",
       "      <td>5</td>\n",
       "      <td>0.032258</td>\n",
       "      <td>0.023041</td>\n",
       "    </tr>\n",
       "    <tr>\n",
       "      <th>17</th>\n",
       "      <td>2036</td>\n",
       "      <td>1</td>\n",
       "      <td>5</td>\n",
       "      <td>0.032258</td>\n",
       "      <td>0.023041</td>\n",
       "    </tr>\n",
       "    <tr>\n",
       "      <th>18</th>\n",
       "      <td>2037</td>\n",
       "      <td>1</td>\n",
       "      <td>3</td>\n",
       "      <td>0.032258</td>\n",
       "      <td>0.013825</td>\n",
       "    </tr>\n",
       "  </tbody>\n",
       "</table>\n",
       "</div>"
      ],
      "text/plain": [
       "    Wijk  NrBook  NrRest    RFBook    RFRest\n",
       "7   2022       1       4  0.032258  0.018433\n",
       "8   2023       1       4  0.032258  0.018433\n",
       "9   2024       1       4  0.032258  0.018433\n",
       "10  2025       1       3  0.032258  0.013825\n",
       "11  2026       1       1  0.032258  0.004608\n",
       "12  2031       0       1  0.000000  0.004608\n",
       "16  2035       1       5  0.032258  0.023041\n",
       "17  2036       1       5  0.032258  0.023041\n",
       "18  2037       1       3  0.032258  0.013825"
      ]
     },
     "execution_count": 62,
     "metadata": {},
     "output_type": "execute_result"
    }
   ],
   "source": [
    "print('Cluster nr 4')\n",
    "df_HrlCluster.loc[df_HrlCluster['Cluster'] == 3, df_HrlCluster.columns[[1,5,7,6,8]]]"
   ]
  },
  {
   "cell_type": "markdown",
   "metadata": {},
   "source": [
    "Cluster 4 (green) comprises 9 neighborhoods, on the outborders of Haarlem. Number of book stores as well as restaurants is very low. \\\n",
    "This cluster should not be recommended. "
   ]
  },
  {
   "cell_type": "markdown",
   "metadata": {},
   "source": [
    "#### Cluster 5"
   ]
  },
  {
   "cell_type": "code",
   "execution_count": 63,
   "metadata": {},
   "outputs": [
    {
     "name": "stdout",
     "output_type": "stream",
     "text": [
      "Cluster nr 5\n"
     ]
    },
    {
     "data": {
      "text/html": [
       "<div>\n",
       "<style scoped>\n",
       "    .dataframe tbody tr th:only-of-type {\n",
       "        vertical-align: middle;\n",
       "    }\n",
       "\n",
       "    .dataframe tbody tr th {\n",
       "        vertical-align: top;\n",
       "    }\n",
       "\n",
       "    .dataframe thead th {\n",
       "        text-align: right;\n",
       "    }\n",
       "</style>\n",
       "<table border=\"1\" class=\"dataframe\">\n",
       "  <thead>\n",
       "    <tr style=\"text-align: right;\">\n",
       "      <th></th>\n",
       "      <th>Wijk</th>\n",
       "      <th>NrBook</th>\n",
       "      <th>NrRest</th>\n",
       "      <th>RFBook</th>\n",
       "      <th>RFRest</th>\n",
       "    </tr>\n",
       "  </thead>\n",
       "  <tbody>\n",
       "    <tr>\n",
       "      <th>4</th>\n",
       "      <td>2015</td>\n",
       "      <td>0</td>\n",
       "      <td>10</td>\n",
       "      <td>0.0</td>\n",
       "      <td>0.046083</td>\n",
       "    </tr>\n",
       "  </tbody>\n",
       "</table>\n",
       "</div>"
      ],
      "text/plain": [
       "   Wijk  NrBook  NrRest  RFBook    RFRest\n",
       "4  2015       0      10     0.0  0.046083"
      ]
     },
     "execution_count": 63,
     "metadata": {},
     "output_type": "execute_result"
    }
   ],
   "source": [
    "print('Cluster nr 5')\n",
    "df_HrlCluster.loc[df_HrlCluster['Cluster'] == 4, df_HrlCluster.columns[[1,5,7,6,8]]]"
   ]
  },
  {
   "cell_type": "markdown",
   "metadata": {},
   "source": [
    "Finally, cluster 5 (yellow) is composed of just one neighborhood, relatively far from Central Station and with no book stores present; however there are still some restaurants present. "
   ]
  },
  {
   "cell_type": "code",
   "execution_count": 64,
   "metadata": {},
   "outputs": [
    {
     "name": "stdout",
     "output_type": "stream",
     "text": [
      "<class 'pandas.core.frame.DataFrame'>\n",
      "RangeIndex: 19 entries, 0 to 18\n",
      "Data columns (total 9 columns):\n",
      "Cluster        19 non-null int32\n",
      "Wijk           19 non-null object\n",
      "StraatNamen    19 non-null object\n",
      "Latitude_m     19 non-null float64\n",
      "Longitude_m    19 non-null float64\n",
      "NrBook         19 non-null int64\n",
      "RFBook         19 non-null float64\n",
      "NrRest         19 non-null int64\n",
      "RFRest         19 non-null float64\n",
      "dtypes: float64(4), int32(1), int64(2), object(2)\n",
      "memory usage: 1.4+ KB\n"
     ]
    }
   ],
   "source": [
    "df_HrlCluster.info()"
   ]
  },
  {
   "cell_type": "markdown",
   "metadata": {},
   "source": [
    "#### Distance from Haarlem Central Station"
   ]
  },
  {
   "cell_type": "code",
   "execution_count": 65,
   "metadata": {},
   "outputs": [
    {
     "name": "stdout",
     "output_type": "stream",
     "text": [
      "The distance between neighborhood 2032 and Central Station is 1410 m.\n"
     ]
    }
   ],
   "source": [
    "# Calculating distance between neighborhood centroids and Central Station\n",
    "a = 13 # recordA nr in dataframe\n",
    "A_name = df_Haarlem05.loc[a, 'Wijk']\n",
    "A_ll = (df_Haarlem05.loc[a, 'Latitude_m'],df_Haarlem05.loc[a, 'Longitude_m'])\n",
    "B_name = 'Central Station'\n",
    "B_ll = (52.3880778,4.6385788)\n",
    "print('The distance between neighborhood', A_name, 'and', B_name, 'is',int(geodesic(A_ll, B_ll).m),'m.')"
   ]
  },
  {
   "cell_type": "markdown",
   "metadata": {},
   "source": [
    "### **Visualization** ###"
   ]
  },
  {
   "cell_type": "code",
   "execution_count": 66,
   "metadata": {},
   "outputs": [
    {
     "data": {
      "text/html": [
       "<div>\n",
       "<style scoped>\n",
       "    .dataframe tbody tr th:only-of-type {\n",
       "        vertical-align: middle;\n",
       "    }\n",
       "\n",
       "    .dataframe tbody tr th {\n",
       "        vertical-align: top;\n",
       "    }\n",
       "\n",
       "    .dataframe thead th {\n",
       "        text-align: right;\n",
       "    }\n",
       "</style>\n",
       "<table border=\"1\" class=\"dataframe\">\n",
       "  <thead>\n",
       "    <tr style=\"text-align: right;\">\n",
       "      <th></th>\n",
       "      <th>Cluster</th>\n",
       "      <th>Wijk</th>\n",
       "      <th>StraatNamen</th>\n",
       "      <th>Latitude_m</th>\n",
       "      <th>Longitude_m</th>\n",
       "      <th>NrBook</th>\n",
       "      <th>RFBook</th>\n",
       "      <th>NrRest</th>\n",
       "      <th>RFRest</th>\n",
       "    </tr>\n",
       "  </thead>\n",
       "  <tbody>\n",
       "    <tr>\n",
       "      <th>0</th>\n",
       "      <td>2</td>\n",
       "      <td>2011</td>\n",
       "      <td>Spaarnwouderstraat, Melkboersteeg, Sleutelstra...</td>\n",
       "      <td>52.381240</td>\n",
       "      <td>4.635808</td>\n",
       "      <td>5</td>\n",
       "      <td>0.161290</td>\n",
       "      <td>30</td>\n",
       "      <td>0.138249</td>\n",
       "    </tr>\n",
       "    <tr>\n",
       "      <th>1</th>\n",
       "      <td>0</td>\n",
       "      <td>2012</td>\n",
       "      <td>Zuider Buiten Spaarne, Zuider Buiten Spaarne, ...</td>\n",
       "      <td>52.370950</td>\n",
       "      <td>4.629562</td>\n",
       "      <td>2</td>\n",
       "      <td>0.064516</td>\n",
       "      <td>27</td>\n",
       "      <td>0.124424</td>\n",
       "    </tr>\n",
       "    <tr>\n",
       "      <th>2</th>\n",
       "      <td>2</td>\n",
       "      <td>2013</td>\n",
       "      <td>Duvenvoordestraat, Duvenvoordestraat, Duvenvoo...</td>\n",
       "      <td>52.382397</td>\n",
       "      <td>4.624165</td>\n",
       "      <td>5</td>\n",
       "      <td>0.161290</td>\n",
       "      <td>30</td>\n",
       "      <td>0.138249</td>\n",
       "    </tr>\n",
       "    <tr>\n",
       "      <th>3</th>\n",
       "      <td>1</td>\n",
       "      <td>2014</td>\n",
       "      <td>Willem Bontekoestraat, Houtvaartpad, Houtmanka...</td>\n",
       "      <td>52.373490</td>\n",
       "      <td>4.614884</td>\n",
       "      <td>2</td>\n",
       "      <td>0.064516</td>\n",
       "      <td>7</td>\n",
       "      <td>0.032258</td>\n",
       "    </tr>\n",
       "    <tr>\n",
       "      <th>4</th>\n",
       "      <td>4</td>\n",
       "      <td>2015</td>\n",
       "      <td>Tulpenkade, Krokusstraat, Krokusstraat, Krokus...</td>\n",
       "      <td>52.381513</td>\n",
       "      <td>4.609336</td>\n",
       "      <td>0</td>\n",
       "      <td>0.000000</td>\n",
       "      <td>10</td>\n",
       "      <td>0.046083</td>\n",
       "    </tr>\n",
       "  </tbody>\n",
       "</table>\n",
       "</div>"
      ],
      "text/plain": [
       "   Cluster  Wijk                                        StraatNamen  \\\n",
       "0        2  2011  Spaarnwouderstraat, Melkboersteeg, Sleutelstra...   \n",
       "1        0  2012  Zuider Buiten Spaarne, Zuider Buiten Spaarne, ...   \n",
       "2        2  2013  Duvenvoordestraat, Duvenvoordestraat, Duvenvoo...   \n",
       "3        1  2014  Willem Bontekoestraat, Houtvaartpad, Houtmanka...   \n",
       "4        4  2015  Tulpenkade, Krokusstraat, Krokusstraat, Krokus...   \n",
       "\n",
       "   Latitude_m  Longitude_m  NrBook    RFBook  NrRest    RFRest  \n",
       "0   52.381240     4.635808       5  0.161290      30  0.138249  \n",
       "1   52.370950     4.629562       2  0.064516      27  0.124424  \n",
       "2   52.382397     4.624165       5  0.161290      30  0.138249  \n",
       "3   52.373490     4.614884       2  0.064516       7  0.032258  \n",
       "4   52.381513     4.609336       0  0.000000      10  0.046083  "
      ]
     },
     "execution_count": 66,
     "metadata": {},
     "output_type": "execute_result"
    }
   ],
   "source": [
    "df_HrlCluster.head()"
   ]
  },
  {
   "cell_type": "code",
   "execution_count": 67,
   "metadata": {
    "collapsed": true,
    "jupyter": {
     "outputs_hidden": true
    }
   },
   "outputs": [
    {
     "data": {
      "text/html": [
       "<div style=\"width:100%;\"><div style=\"position:relative;width:100%;height:0;padding-bottom:60%;\"><iframe src=\"data:text/html;charset=utf-8;base64,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\" style=\"position:absolute;width:100%;height:100%;left:0;top:0;border:none !important;\" allowfullscreen webkitallowfullscreen mozallowfullscreen></iframe></div></div>"
      ],
      "text/plain": [
       "<folium.folium.Map at 0x7f1747bcc048>"
      ]
     },
     "execution_count": 67,
     "metadata": {},
     "output_type": "execute_result"
    }
   ],
   "source": [
    "HrlCluster_map = folium.Map(location=[HrlSt_lat,HrlSt_lon], zoom_start=13)\n",
    "folium.features.CircleMarker([HrlSt_lat, HrlSt_lon],radius=10,color= 'red',popup= 'STATION',fill = False,fill_color = 'red',fill_opacity = 0.6).add_to(HrlCluster_map)\n",
    "HrlCluster_map"
   ]
  },
  {
   "cell_type": "code",
   "execution_count": 68,
   "metadata": {
    "collapsed": true,
    "jupyter": {
     "outputs_hidden": true
    }
   },
   "outputs": [
    {
     "data": {
      "text/html": [
       "<div style=\"width:100%;\"><div style=\"position:relative;width:100%;height:0;padding-bottom:60%;\"><iframe src=\"data:text/html;charset=utf-8;base64,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\" style=\"position:absolute;width:100%;height:100%;left:0;top:0;border:none !important;\" allowfullscreen webkitallowfullscreen mozallowfullscreen></iframe></div></div>"
      ],
      "text/plain": [
       "<folium.folium.Map at 0x7f1747bcc048>"
      ]
     },
     "execution_count": 68,
     "metadata": {},
     "output_type": "execute_result"
    }
   ],
   "source": [
    "x = np.arange(k)\n",
    "ys = [i + x + (i*x)**2 for i in range(k)]\n",
    "colors_array = cm.rainbow(np.linspace(0, 1, len(ys)))\n",
    "rainbow = [colors.rgb2hex(i) for i in colors_array]\n",
    "markers_colors = []\n",
    "for lat, lon, wijk, cluster in zip(df_HrlCluster['Latitude_m'], df_HrlCluster['Longitude_m'], df_HrlCluster['Wijk'], df_HrlCluster['Cluster']):\n",
    "    label = folium.Popup(str(wijk) + ' Cluster ' + str(cluster), parse_html=True)\n",
    "    folium.CircleMarker([lat, lon],radius=5,popup=label,color=rainbow[cluster-1],fill=True,fill_color=rainbow[cluster-1],fill_opacity=0.7).add_to(HrlCluster_map)\n",
    "HrlCluster_map"
   ]
  },
  {
   "cell_type": "markdown",
   "metadata": {},
   "source": [
    "\n",
    "## Results and Discussion <a name=\"5\"></a>"
   ]
  },
  {
   "cell_type": "markdown",
   "metadata": {},
   "source": [
    "Will be presented in a separate report."
   ]
  },
  {
   "cell_type": "markdown",
   "metadata": {},
   "source": [
    "\n",
    "## Conclusion <a name=\"6\"></a>"
   ]
  },
  {
   "cell_type": "markdown",
   "metadata": {},
   "source": [
    "Will be presented in a separate report."
   ]
  }
 ],
 "metadata": {
  "kernelspec": {
   "display_name": "Python",
   "language": "python",
   "name": "conda-env-python-py"
  },
  "language_info": {
   "codemirror_mode": {
    "name": "ipython",
    "version": 3
   },
   "file_extension": ".py",
   "mimetype": "text/x-python",
   "name": "python",
   "nbconvert_exporter": "python",
   "pygments_lexer": "ipython3",
   "version": "3.6.7"
  }
 },
 "nbformat": 4,
 "nbformat_minor": 4
}
